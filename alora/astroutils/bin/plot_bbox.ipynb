{
 "cells": [
  {
   "cell_type": "code",
   "execution_count": 1,
   "metadata": {},
   "outputs": [],
   "source": [
    "# from alora.astroutils.obs_constraints import HORIZON_BOX\n",
    "import matplotlib.pyplot as plt\n",
    "import numpy as np"
   ]
  },
  {
   "cell_type": "code",
   "execution_count": 6,
   "metadata": {},
   "outputs": [
    {
     "data": {
      "text/plain": [
       "{(-50, -45): (-30, 0),\n",
       " (-45, -40): (-30, 15),\n",
       " (-40, -30): (-45, 30),\n",
       " (-30, -20): (-45, 45),\n",
       " (-20, -10): (-60, 45),\n",
       " (-10, 5): (-60, 60),\n",
       " (5, 10): (-60, 75),\n",
       " (10, 25): (-75, 75),\n",
       " (25, 30): (-75, 90),\n",
       " (30, 35): (-75, 105),\n",
       " (35, 50): (-90, 105),\n",
       " (50, 55): (-90, 120),\n",
       " (55, 60): (-105, 120),\n",
       " (60, 65): (-105, 135),\n",
       " (65, 70): (-120, 135),\n",
       " (70, 75): (-135, 150),\n",
       " (75, 90): (-180, 180)}"
      ]
     },
     "execution_count": 6,
     "metadata": {},
     "output_type": "execute_result"
    }
   ],
   "source": [
    "HORIZON_BOX"
   ]
  },
  {
   "cell_type": "code",
   "execution_count": null,
   "metadata": {},
   "outputs": [
    {
     "data": {
      "text/plain": [
       "[<matplotlib.lines.Line2D at 0x148478af110>]"
      ]
     },
     "execution_count": 8,
     "metadata": {},
     "output_type": "execute_result"
    },
    {
     "data": {
      "image/png": "[encoded data removed]",
      "text/plain": [
       "<Figure size 640x480 with 1 Axes>"
      ]
     },
     "metadata": {},
     "output_type": "display_data"
    }
   ],
   "source": [
    "x, y = [],[]\n",
    "for (min_dec,max_dec),(min_ha,max_ha) in HORIZON_BOX.items():\n",
    "    x.append(min_ha); y.append(min_dec)\n",
    "    x.append(min_ha); y.append(max_dec)\n",
    "    x.append(max_ha); y.append(min_dec)\n",
    "    x.append(max_ha); y.append(max_dec)\n",
    "x = np.array(x)\n",
    "y = np.array(y)\n",
    "\n",
    "neg_x = x[x<0]\n",
    "neg_x_y = y[x<0]\n",
    "pos_x = x[x>=0]\n",
    "pos_x_y = y[x>=0]\n",
    "points_x = np.concatenate([neg_x,pos_x[::-1],[neg_x[0]]])\n",
    "points_y = np.concatenate([neg_x_y,pos_x_y[::-1],[neg_x_y[0]]])\n",
    "\n",
    "plt.plot(points_x,points_y,'g')"
   ]
  },
  {
   "cell_type": "code",
   "execution_count": 2,
   "metadata": {},
   "outputs": [],
   "source": [
    "import json"
   ]
  },
  {
   "cell_type": "code",
   "execution_count": 3,
   "metadata": {},
   "outputs": [
    {
     "data": {
      "text/plain": [
       "{(-50, -45): (-30, 0),\n",
       " (-45, -40): (-30, 15),\n",
       " (-40, -30): (-45, 30),\n",
       " (-30, -20): (-45, 45),\n",
       " (-20, -10): (-60, 45),\n",
       " (-10, 5): (-60, 60),\n",
       " (5, 10): (-60, 75),\n",
       " (10, 25): (-75, 75),\n",
       " (25, 30): (-75, 90),\n",
       " (30, 35): (-75, 105),\n",
       " (35, 50): (-90, 105),\n",
       " (50, 55): (-90, 120),\n",
       " (55, 60): (-105, 120),\n",
       " (60, 65): (-105, 135),\n",
       " (65, 70): (-120, 135),\n",
       " (70, 75): (-135, 150),\n",
       " (75, 90): (-180, 180)}"
      ]
     },
     "execution_count": 3,
     "metadata": {},
     "output_type": "execute_result"
    }
   ],
   "source": [
    "with open(r\"C:\\Users\\chell\\PycharmProjects\\alora\\alora\\config\\horizon_box.json\", \"r\") as f:\n",
    "    data = json.load(f)\n",
    "bbox = {}\n",
    "for i in np.arange(len(data),step=2):\n",
    "    bbox[tuple(data[i])] = tuple(data[i+1])\n",
    "bbox"
   ]
  },
  {
   "cell_type": "code",
   "execution_count": 6,
   "metadata": {},
   "outputs": [
    {
     "data": {
      "text/plain": [
       "{(-50, -45): (-30, 0),\n",
       " (-45, -40): (-30, 15),\n",
       " (-40, -30): (-45, 30),\n",
       " (-30, -20): (-45, 45),\n",
       " (-20, -10): (-60, 45),\n",
       " (-10, 5): (-60, 60),\n",
       " (5, 10): (-60, 75),\n",
       " (10, 25): (-75, 75),\n",
       " (25, 30): (-75, 90),\n",
       " (30, 35): (-75, 105),\n",
       " (35, 50): (-90, 105),\n",
       " (50, 55): (-90, 120),\n",
       " (55, 60): (-105, 120),\n",
       " (60, 65): (-105, 135),\n",
       " (65, 70): (-120, 135),\n",
       " (70, 75): (-135, 150),\n",
       " (75, 90): (-180, 180)}"
      ]
     },
     "execution_count": 6,
     "metadata": {},
     "output_type": "execute_result"
    }
   ],
   "source": []
  },
  {
   "cell_type": "code",
   "execution_count": 4,
   "metadata": {},
   "outputs": [
    {
     "data": {
      "text/plain": [
       "[<matplotlib.lines.Line2D at 0x1e83c42e300>]"
      ]
     },
     "execution_count": 4,
     "metadata": {},
     "output_type": "execute_result"
    },
    {
     "data": {
      "image/png": "[encoded data removed]",
      "text/plain": [
       "<Figure size 640x480 with 1 Axes>"
      ]
     },
     "metadata": {},
     "output_type": "display_data"
    }
   ],
   "source": [
    "x, y = [],[]\n",
    "for (min_dec,max_dec),(min_ha,max_ha) in bbox.items():\n",
    "    x.append(min_ha); y.append(min_dec)\n",
    "    x.append(min_ha); y.append(max_dec)\n",
    "    x.append(max_ha); y.append(min_dec)\n",
    "    x.append(max_ha); y.append(max_dec)\n",
    "x = np.array(x)\n",
    "y = np.array(y)\n",
    "\n",
    "neg_x = x[x<0]\n",
    "neg_x_y = y[x<0]\n",
    "pos_x = x[x>=0]\n",
    "pos_x_y = y[x>=0]\n",
    "points_x = np.concatenate([neg_x,pos_x[::-1],[neg_x[0]]])\n",
    "points_y = np.concatenate([neg_x_y,pos_x_y[::-1],[neg_x_y[0]]])\n",
    "\n",
    "plt.plot(points_x,points_y,'g')"
   ]
  },
  {
   "cell_type": "code",
   "execution_count": null,
   "metadata": {},
   "outputs": [],
   "source": []
  }
 ],
 "metadata": {
  "kernelspec": {
   "display_name": ".venv",
   "language": "python",
   "name": "python3"
  },
  "language_info": {
   "codemirror_mode": {
    "name": "ipython",
    "version": 3
   },
   "file_extension": ".py",
   "mimetype": "text/x-python",
   "name": "python",
   "nbconvert_exporter": "python",
   "pygments_lexer": "ipython3",
   "version": "3.12.0"
  }
 },
 "nbformat": 4,
 "nbformat_minor": 2
}

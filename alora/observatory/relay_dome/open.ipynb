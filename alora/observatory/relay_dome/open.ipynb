{
 "cells": [
  {
   "cell_type": "code",
   "execution_count": 30,
   "metadata": {},
   "outputs": [],
   "source": [
    "import requests\n",
    "from bs4 import BeautifulSoup\n",
    "import time\n",
    "import dotenv"
   ]
  },
  {
   "cell_type": "code",
   "execution_count": 21,
   "metadata": {},
   "outputs": [],
   "source": [
    "open_time = 57\n",
    "close_time = 57"
   ]
  },
  {
   "cell_type": "code",
   "execution_count": 23,
   "metadata": {},
   "outputs": [],
   "source": [
    "class Dome:\n",
    "    RELAYS = {\"open\":1,\"close\":2}\n",
    "    TIMINGS_S = {\"open\":57,\"close\":57}\n",
    "    def __init__(self,ip_addr,username,password) -> None:\n",
    "        self.HOSTNAME = ip_addr\n",
    "        self.USERNAME = username\n",
    "        self.PASSWORD = password\n",
    "        self.session = requests.Session()\n",
    "\n",
    "    @property\n",
    "    def url_template(self):\n",
    "        return f\"http://{self.USERNAME}:{self.PASSWORD}@{self.HOSTNAME}\"\n",
    "    \n",
    "    def status(self):\n",
    "        r = self.session.get(self.url_template+\"/status\")\n",
    "        print(BeautifulSoup(r.content))\n",
    "    \n",
    "    def close(self):\n",
    "        r = self.session.get(self.url_template+f\"/outlet?{Dome.RELAYS['open']}=OFF\")\n",
    "        r = self.session.get(self.url_template+f\"/outlet?{Dome.RELAYS['close']}=ON\")\n",
    "        wait_time = Dome.TIMINGS_S['close'] + 10 \n",
    "        print(f\"Waiting {wait_time} seconds for dome to close\")\n",
    "        time.sleep(wait_time)\n",
    "        r = self.session.get(self.url_template+f\"/outlet?{Dome.RELAYS['close']}=OFF\")\n",
    "\n",
    "    def open(self):\n",
    "        r = self.session.get(self.url_template+f\"/outlet?{Dome.RELAYS['close']}=OFF\")\n",
    "        r = self.session.get(self.url_template+f\"/outlet?{Dome.RELAYS['open']}=ON\")\n",
    "        wait_time = Dome.TIMINGS_S['open'] + 10 \n",
    "        print(f\"Waiting {wait_time} seconds for dome to open\")\n",
    "        time.sleep(wait_time)\n",
    "        print(\"Done!\")\n",
    "        r = self.session.get(self.url_template+f\"/outlet?{Dome.RELAYS['open']}=OFF\")"
   ]
  },
  {
   "cell_type": "code",
   "execution_count": 31,
   "metadata": {},
   "outputs": [],
   "source": [
    "import astropy.units as u"
   ]
  },
  {
   "cell_type": "code",
   "execution_count": 43,
   "metadata": {},
   "outputs": [
    {
     "data": {
      "text/plain": [
       "273.812"
      ]
     },
     "execution_count": 43,
     "metadata": {},
     "output_type": "execute_result"
    }
   ],
   "source": [
    "7.7*14*2.54"
   ]
  },
  {
   "cell_type": "code",
   "execution_count": null,
   "metadata": {},
   "outputs": [
    {
     "data": {
      "text/plain": [
       "2730.0"
      ]
     },
     "execution_count": 44,
     "metadata": {},
     "output_type": "execute_result"
    }
   ],
   "source": [
    "3900*0.77"
   ]
  },
  {
   "cell_type": "code",
   "execution_count": 45,
   "metadata": {},
   "outputs": [
    {
     "data": {
      "text/plain": [
       "1.256"
      ]
     },
     "execution_count": 45,
     "metadata": {},
     "output_type": "execute_result"
    }
   ],
   "source": [
    "2*0.628"
   ]
  },
  {
   "cell_type": "code",
   "execution_count": 48,
   "metadata": {},
   "outputs": [
    {
     "data": {
      "text/plain": [
       "2737.0"
      ]
     },
     "execution_count": 48,
     "metadata": {},
     "output_type": "execute_result"
    }
   ],
   "source": [
    "3910*0.7"
   ]
  },
  {
   "cell_type": "code",
   "execution_count": 76,
   "metadata": {},
   "outputs": [
    {
     "data": {
      "text/plain": [
       "3911.6"
      ]
     },
     "execution_count": 76,
     "metadata": {},
     "output_type": "execute_result"
    }
   ],
   "source": [
    "154*25.4"
   ]
  },
  {
   "cell_type": "code",
   "execution_count": null,
   "metadata": {},
   "outputs": [
    {
     "data": {
      "text/plain": [
       "4.007213114754099"
      ]
     },
     "execution_count": 82,
     "metadata": {},
     "output_type": "execute_result"
    }
   ],
   "source": [
    "bin = 4656 * 1.26 / (24.4*60)\n",
    "bin"
   ]
  },
  {
   "cell_type": "code",
   "execution_count": 78,
   "metadata": {},
   "outputs": [
    {
     "data": {
      "text/plain": [
       "3556.0"
      ]
     },
     "execution_count": 78,
     "metadata": {},
     "output_type": "execute_result"
    }
   ],
   "source": [
    "10*14*25.4"
   ]
  },
  {
   "cell_type": "code",
   "execution_count": 79,
   "metadata": {},
   "outputs": [
    {
     "data": {
      "text/plain": [
       "14.015748031496063"
      ]
     },
     "execution_count": 79,
     "metadata": {},
     "output_type": "execute_result"
    }
   ],
   "source": [
    "356/25.4"
   ]
  },
  {
   "cell_type": "code",
   "execution_count": 87,
   "metadata": {},
   "outputs": [
    {
     "data": {
      "text/plain": [
       "2499.0"
      ]
     },
     "execution_count": 87,
     "metadata": {},
     "output_type": "execute_result"
    }
   ],
   "source": [
    "7*14*25.5"
   ]
  },
  {
   "cell_type": "code",
   "execution_count": 83,
   "metadata": {},
   "outputs": [
    {
     "data": {
      "text/plain": [
       "4.034662045060658"
      ]
     },
     "execution_count": 83,
     "metadata": {},
     "output_type": "execute_result"
    }
   ],
   "source": [
    "4656/1154"
   ]
  },
  {
   "cell_type": "code",
   "execution_count": 86,
   "metadata": {},
   "outputs": [
    {
     "data": {
      "text/plain": [
       "18.50933333333333"
      ]
     },
     "execution_count": 86,
     "metadata": {},
     "output_type": "execute_result"
    }
   ],
   "source": [
    "(3520*0.3155*u.arcsec).to_value(\"arcmin\")"
   ]
  },
  {
   "cell_type": "code",
   "execution_count": null,
   "metadata": {},
   "outputs": [],
   "source": [
    "f/11 -> f/7"
   ]
  },
  {
   "cell_type": "code",
   "execution_count": null,
   "metadata": {},
   "outputs": [
    {
     "data": {
      "text/plain": [
       "97.4656"
      ]
     },
     "execution_count": 70,
     "metadata": {},
     "output_type": "execute_result"
    }
   ],
   "source": [
    "PIXEL_SIZE = 3.8 * u.micron\n",
    "PIXEL_SCALE = 1.256 * u.arcsec\n",
    "PLATE_SCALE = PIXEL_SCALE / PIXEL_SIZE \n",
    "PLATE_WIDTH = 24.4 * u.arcmin\n",
    "PLATE_HEIGHT = 18.5 * u.arcmin\n",
    "PLATE_WIDTH_PX = PLATE_WIDTH/PIXEL_SCALE\n",
    "PLATE_HEIGHT_PX = PLATE_HEIGHT/PIXEL_SCALE\n",
    "BINNING = 3\n",
    "\n",
    "(4656*PIXEL_SCALE).to_value(\"arcminute\")"
   ]
  },
  {
   "cell_type": "code",
   "execution_count": 71,
   "metadata": {},
   "outputs": [
    {
     "data": {
      "text/plain": [
       "2489.2"
      ]
     },
     "execution_count": 71,
     "metadata": {},
     "output_type": "execute_result"
    }
   ],
   "source": [
    "14 * 25.4 * 7"
   ]
  },
  {
   "cell_type": "code",
   "execution_count": 72,
   "metadata": {},
   "outputs": [
    {
     "data": {
      "text/plain": [
       "0.0016024367986146768"
      ]
     },
     "execution_count": 72,
     "metadata": {},
     "output_type": "execute_result"
    }
   ],
   "source": [
    "PLATE_SCALE.to_value(\"rad/mm\")"
   ]
  },
  {
   "cell_type": "code",
   "execution_count": 75,
   "metadata": {},
   "outputs": [
    {
     "data": {
      "text/plain": [
       "1872.1487191217343"
      ]
     },
     "execution_count": 75,
     "metadata": {},
     "output_type": "execute_result"
    }
   ],
   "source": [
    "(1/PLATE_SCALE.to_value(\"rad/mm\") * BINNING)"
   ]
  },
  {
   "cell_type": "code",
   "execution_count": 62,
   "metadata": {},
   "outputs": [
    {
     "data": {
      "text/plain": [
       "355.59999999999997"
      ]
     },
     "execution_count": 62,
     "metadata": {},
     "output_type": "execute_result"
    }
   ],
   "source": [
    "25.4 * 14"
   ]
  },
  {
   "cell_type": "code",
   "execution_count": null,
   "metadata": {},
   "outputs": [],
   "source": [
    "3.8*206265/"
   ]
  },
  {
   "cell_type": "code",
   "execution_count": 42,
   "metadata": {},
   "outputs": [
    {
     "data": {
      "text/plain": [
       "2170.0"
      ]
     },
     "execution_count": 42,
     "metadata": {},
     "output_type": "execute_result"
    }
   ],
   "source": [
    "3100*0.7"
   ]
  },
  {
   "cell_type": "code",
   "execution_count": null,
   "metadata": {},
   "outputs": [],
   "source": [
    "d = Dome(\"\",\"\",\"\")"
   ]
  },
  {
   "cell_type": "code",
   "execution_count": 29,
   "metadata": {},
   "outputs": [
    {
     "name": "stdout",
     "output_type": "stream",
     "text": [
      "<html><head><title>Controller status</title></head>\n",
      "<body><div id=\"state\">00</div><div id=\"lock\">00</div><div id=\"perm\">ff</div>\n",
      "</body></html>\n"
     ]
    }
   ],
   "source": [
    "d.status()"
   ]
  },
  {
   "cell_type": "markdown",
   "metadata": {},
   "source": [
    "when close is on:\n",
    "\n",
    "<html><head><title>Controller status</title></head>\n",
    "<body><div id=\"state\">02</div><div id=\"lock\">00</div><div id=\"perm\">ff</div>\n",
    "</body></html>"
   ]
  },
  {
   "cell_type": "code",
   "execution_count": 28,
   "metadata": {},
   "outputs": [
    {
     "name": "stdout",
     "output_type": "stream",
     "text": [
      "Waiting 67 seconds for dome to close\n"
     ]
    }
   ],
   "source": [
    "d.close()"
   ]
  },
  {
   "cell_type": "code",
   "execution_count": 26,
   "metadata": {},
   "outputs": [
    {
     "name": "stdout",
     "output_type": "stream",
     "text": [
      "Waiting 67 seconds for dome to open\n",
      "Done!\n"
     ]
    }
   ],
   "source": [
    "d.open()"
   ]
  },
  {
   "cell_type": "code",
   "execution_count": null,
   "metadata": {},
   "outputs": [],
   "source": []
  }
 ],
 "metadata": {
  "kernelspec": {
   "display_name": "Python 3",
   "language": "python",
   "name": "python3"
  },
  "language_info": {
   "codemirror_mode": {
    "name": "ipython",
    "version": 3
   },
   "file_extension": ".py",
   "mimetype": "text/x-python",
   "name": "python",
   "nbconvert_exporter": "python",
   "pygments_lexer": "ipython3",
   "version": "3.12.0"
  }
 },
 "nbformat": 4,
 "nbformat_minor": 2
}

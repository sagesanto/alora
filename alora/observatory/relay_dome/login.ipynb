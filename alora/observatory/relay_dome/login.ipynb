{
 "cells": [
  {
   "cell_type": "code",
   "execution_count": 1,
   "metadata": {},
   "outputs": [],
   "source": [
    "import requests\n",
    "import bs4\n",
    "from hashlib import md5\n",
    "import keyring"
   ]
  },
  {
   "cell_type": "code",
   "execution_count": 222,
   "metadata": {},
   "outputs": [],
   "source": [
    "session = requests.Session()"
   ]
  },
  {
   "cell_type": "code",
   "execution_count": 223,
   "metadata": {},
   "outputs": [],
   "source": [
    "login_req = session.get(HOSTNAME)\n",
    "login_page = bs4.BeautifulSoup(login_req.content)"
   ]
  },
  {
   "cell_type": "code",
   "execution_count": 224,
   "metadata": {},
   "outputs": [],
   "source": [
    "login_page = bs4.BeautifulSoup(login_req.content)"
   ]
  },
  {
   "cell_type": "code",
   "execution_count": 225,
   "metadata": {},
   "outputs": [
    {
     "data": {
      "text/plain": [
       "<html><head>\n",
       "<meta content=\"NOINDEX, NOFOLLOW\" name=\"ROBOTS\"/>\n",
       " \n",
       "<title>Power Controller </title>\n",
       " \n",
       "<script language=\"javascript\" src=\"/md5.js\"></script>\n",
       "<script language=\"javascript\">\n",
       "<!--\n",
       "function calcResponse(){\n",
       "var str;\n",
       "str=document.login.Challenge.value+document.login.Username.value+document.login.Password.value+document.login.Challenge.value;\n",
       "document.secin.Password.value = hex_md5(str);\n",
       "document.secin.Username.value = document.login.Username.value;\n",
       "document.secin.submit();\n",
       "}//-->\n",
       "</script>\n",
       "</head>\n",
       "<body>\n",
       "<noscript>\n",
       "<table border=\"0\" width=\"100%\">\n",
       "<tbody><tr><td bgcolor=\"red\"> </td></tr>\n",
       "<tr><td align=\"center\"><h1>Warning: Insecure Authentication</h1></td></tr>\n",
       "<tr><td bgcolor=\"red\"> </td></tr></tbody></table>\n",
       "</noscript>\n",
       "<form action=\"/login.tgi\" id=\"login\" method=\"post\" name=\"login\">\n",
       "<table border=\"0\">\n",
       "<tbody><tr> \n",
       "<td>User Name</td>\n",
       "<td><input maxlength=\"32\" name=\"Username\" size=\"16\" type=\"text\" value=\"\"/></td>\n",
       "</tr>\n",
       "<tr> \n",
       "<td>Password</td>\n",
       "<td><input maxlength=\"32\" name=\"Password\" size=\"16\" type=\"password\"/></td>\n",
       "</tr>\n",
       "<tr align=\"RIGHT\">\n",
       "<td></td>\n",
       "<td><input onclick=\"calcResponse(); return false;\" type=\"Submit\" value=\"OK\"/>\n",
       " \n",
       "<input name=\"Challenge\" type=\"hidden\" value=\"/8QPUIXVqc2siZe\"/>\n",
       " \n",
       "</td></tr>\n",
       "</tbody></table>\n",
       "</form>\n",
       "<script language=\"javascript\">\n",
       "<!--\n",
       "document.login.Username.focus();\n",
       "//-->\n",
       "</script>\n",
       "<form action=\"/login.tgi\" id=\"secin\" method=\"post\" name=\"secin\" style=\"display:none\">\n",
       "<input name=\"Username\" type=\"hidden\"/>\n",
       "<input name=\"Password\" type=\"hidden\"/>\n",
       "<input type=\"Submit\"/>\n",
       "</form>\n",
       "\n",
       "\n",
       "</body></html>"
      ]
     },
     "execution_count": 225,
     "metadata": {},
     "output_type": "execute_result"
    }
   ],
   "source": [
    "login_page"
   ]
  },
  {
   "cell_type": "code",
   "execution_count": 226,
   "metadata": {},
   "outputs": [
    {
     "data": {
      "text/plain": [
       "[<input maxlength=\"32\" name=\"Username\" size=\"16\" type=\"text\" value=\"\"/>,\n",
       " <input maxlength=\"32\" name=\"Password\" size=\"16\" type=\"password\"/>,\n",
       " <input onclick=\"calcResponse(); return false;\" type=\"Submit\" value=\"OK\"/>,\n",
       " <input name=\"Challenge\" type=\"hidden\" value=\"/8QPUIXVqc2siZe\"/>,\n",
       " <input name=\"Username\" type=\"hidden\"/>,\n",
       " <input name=\"Password\" type=\"hidden\"/>,\n",
       " <input type=\"Submit\"/>]"
      ]
     },
     "execution_count": 226,
     "metadata": {},
     "output_type": "execute_result"
    }
   ],
   "source": [
    "login_page.findAll(\"input\")"
   ]
  },
  {
   "cell_type": "code",
   "execution_count": 227,
   "metadata": {},
   "outputs": [
    {
     "data": {
      "text/plain": [
       "'/8QPUIXVqc2siZe'"
      ]
     },
     "execution_count": 227,
     "metadata": {},
     "output_type": "execute_result"
    }
   ],
   "source": [
    "challenge = login_page.findAll(\"input\", {\"name\":\"Challenge\"})[0][\"value\"]\n",
    "challenge"
   ]
  },
  {
   "cell_type": "code",
   "execution_count": 228,
   "metadata": {},
   "outputs": [
    {
     "name": "stdout",
     "output_type": "stream",
     "text": [
      "c339d189645132e11d88811258cb5ef4\n",
      "<class 'str'>\n"
     ]
    },
    {
     "data": {
      "text/plain": [
       "<html><head>\n",
       "\n",
       "<meta content=\"0; URL=/\" http-equiv=\"refresh\"/>\n",
       "\n",
       "</head><body>\n",
       "</body></html>"
      ]
     },
     "execution_count": 228,
     "metadata": {},
     "output_type": "execute_result"
    }
   ],
   "source": [
    "def calculate_response(username,password,challenge):\n",
    "    s = challenge + username + password + challenge\n",
    "    m = md5()  # nosec - The switch we are talking to uses md5 hashes\n",
    "    m.update(s.encode())\n",
    "    print(m.hexdigest())\n",
    "    return m.hexdigest()\n",
    "passw = calculate_response(USERNAME,PASSWORD,challenge)\n",
    "print(type(passw))\n",
    "r = session.post(HOSTNAME+\"/login.tgi\",headers={\"Content-Type\": \"application/x-www-form-urlencoded\"},data={\"Username\":USERNAME,\"Password\":passw},verify=False,timeout=3)\n",
    "bs4.BeautifulSoup(r.content)\n",
    "\n",
    "# r3 = session.get(HOSTNAME,verify=False,allow_redirects=True)\n",
    "# r2 = session.get(HOSTNAME+\"index.htm\")\n",
    "# print(r2.content)"
   ]
  },
  {
   "cell_type": "code",
   "execution_count": 238,
   "metadata": {},
   "outputs": [
    {
     "data": {
      "text/plain": [
       "{'headers': {'User-Agent': 'python-requests/2.31.0', 'Accept-Encoding': 'gzip, deflate', 'Accept': '*/*', 'Connection': 'keep-alive'},\n",
       " 'auth': None,\n",
       " 'proxies': {},\n",
       " 'hooks': {'response': []},\n",
       " 'params': {},\n",
       " 'stream': False,\n",
       " 'verify': True,\n",
       " 'cert': None,\n",
       " 'max_redirects': 30,\n",
       " 'trust_env': True,\n",
       " 'cookies': <RequestsCookieJar[]>,\n",
       " 'adapters': OrderedDict([('https://',\n",
       "               <requests.adapters.HTTPAdapter at 0x20307be0950>),\n",
       "              ('http://', <requests.adapters.HTTPAdapter at 0x20307be0380>)])}"
      ]
     },
     "execution_count": 238,
     "metadata": {},
     "output_type": "execute_result"
    }
   ],
   "source": [
    "session.__dict__"
   ]
  },
  {
   "cell_type": "code",
   "execution_count": 239,
   "metadata": {},
   "outputs": [
    {
     "data": {
      "text/plain": [
       "{'_content': b'<HTML><HEAD>\\n\\n<META HTTP-EQUIV=\"refresh\" content=\"0; URL=/\">\\n\\n</HEAD><BODY></BODY>\\n</HTML>',\n",
       " '_content_consumed': True,\n",
       " '_next': None,\n",
       " 'status_code': 200,\n",
       " 'headers': {'Connection': 'close', 'Content-Type': 'text/html', 'Cache-Control': 'No-cache, no-store, must-revalidate, max-age=0', 'Expires': 'Mon, 01 Jan 1990 00:00:01 GMT', 'Pragma': 'no-cache', 'Set-Cookie': 'DLILPC=\"\"; Version=1; Max-Age=0; Path=/'},\n",
       " 'raw': <urllib3.response.HTTPResponse at 0x2030771f640>,\n",
       " 'url': 'http://10.42.7.100//login.tgi',\n",
       " 'encoding': 'ISO-8859-1',\n",
       " 'history': [],\n",
       " 'reason': 'OK',\n",
       " 'cookies': <RequestsCookieJar[]>,\n",
       " 'elapsed': datetime.timedelta(microseconds=55315),\n",
       " 'request': <PreparedRequest [POST]>,\n",
       " 'connection': <requests.adapters.HTTPAdapter at 0x20307be0380>}"
      ]
     },
     "execution_count": 239,
     "metadata": {},
     "output_type": "execute_result"
    }
   ],
   "source": [
    "r.__dict__"
   ]
  },
  {
   "cell_type": "code",
   "execution_count": 229,
   "metadata": {},
   "outputs": [
    {
     "name": "stdout",
     "output_type": "stream",
     "text": [
      "dc02b18a66f4f022ab1e9b59cc20c1fd\n"
     ]
    },
    {
     "data": {
      "text/plain": [
       "'dc02b18a66f4f022ab1e9b59cc20c1fd'"
      ]
     },
     "execution_count": 229,
     "metadata": {},
     "output_type": "execute_result"
    }
   ],
   "source": [
    "calculate_response(USERNAME,\"hi\",\"bY2X/USJlVUigqz\")"
   ]
  },
  {
   "cell_type": "code",
   "execution_count": 230,
   "metadata": {},
   "outputs": [
    {
     "data": {
      "text/plain": [
       "b'<HTML><HEAD>\\n\\n<META HTTP-EQUIV=\"refresh\" content=\"0; URL=/index.htm\">\\n\\n</HEAD><BODY></BODY>\\n</HTML>'"
      ]
     },
     "execution_count": 230,
     "metadata": {},
     "output_type": "execute_result"
    }
   ],
   "source": [
    "session.get(HOSTNAME+\"/index.htm\",auth=(USERNAME,PASSWORD),allow_redirects=True,verify=False).content"
   ]
  },
  {
   "cell_type": "code",
   "execution_count": 231,
   "metadata": {},
   "outputs": [
    {
     "data": {
      "text/plain": [
       "{'_content': b'<HTML><HEAD>\\n\\n<META HTTP-EQUIV=\"refresh\" content=\"0; URL=/\">\\n\\n</HEAD><BODY></BODY>\\n</HTML>',\n",
       " '_content_consumed': True,\n",
       " '_next': None,\n",
       " 'status_code': 200,\n",
       " 'headers': {'Connection': 'close', 'Content-Type': 'text/html', 'Cache-Control': 'No-cache, no-store, must-revalidate, max-age=0', 'Expires': 'Mon, 01 Jan 1990 00:00:01 GMT', 'Pragma': 'no-cache', 'Set-Cookie': 'DLILPC=\"\"; Version=1; Max-Age=0; Path=/'},\n",
       " 'raw': <urllib3.response.HTTPResponse at 0x2030771f640>,\n",
       " 'url': 'http://10.42.7.100//login.tgi',\n",
       " 'encoding': 'ISO-8859-1',\n",
       " 'history': [],\n",
       " 'reason': 'OK',\n",
       " 'cookies': <RequestsCookieJar[]>,\n",
       " 'elapsed': datetime.timedelta(microseconds=55315),\n",
       " 'request': <PreparedRequest [POST]>,\n",
       " 'connection': <requests.adapters.HTTPAdapter at 0x20307be0380>}"
      ]
     },
     "execution_count": 231,
     "metadata": {},
     "output_type": "execute_result"
    }
   ],
   "source": [
    "r.__dict__"
   ]
  },
  {
   "cell_type": "code",
   "execution_count": 232,
   "metadata": {},
   "outputs": [
    {
     "data": {
      "text/plain": [
       "requests.models.Response"
      ]
     },
     "execution_count": 232,
     "metadata": {},
     "output_type": "execute_result"
    }
   ],
   "source": [
    "type(r)"
   ]
  },
  {
   "cell_type": "code",
   "execution_count": 233,
   "metadata": {},
   "outputs": [
    {
     "data": {
      "text/plain": [
       "{'_content': b'<HTML><HEAD>\\n\\n<META HTTP-EQUIV=\"refresh\" content=\"0; URL=/\">\\n\\n</HEAD><BODY></BODY>\\n</HTML>',\n",
       " '_content_consumed': True,\n",
       " '_next': None,\n",
       " 'status_code': 200,\n",
       " 'headers': {'Connection': 'close', 'Content-Type': 'text/html', 'Cache-Control': 'No-cache, no-store, must-revalidate, max-age=0', 'Expires': 'Mon, 01 Jan 1990 00:00:01 GMT', 'Pragma': 'no-cache', 'Set-Cookie': 'DLILPC=\"\"; Version=1; Max-Age=0; Path=/'},\n",
       " 'raw': <urllib3.response.HTTPResponse at 0x2030771f640>,\n",
       " 'url': 'http://10.42.7.100//login.tgi',\n",
       " 'encoding': 'ISO-8859-1',\n",
       " 'history': [],\n",
       " 'reason': 'OK',\n",
       " 'cookies': <RequestsCookieJar[]>,\n",
       " 'elapsed': datetime.timedelta(microseconds=55315),\n",
       " 'request': <PreparedRequest [POST]>,\n",
       " 'connection': <requests.adapters.HTTPAdapter at 0x20307be0380>}"
      ]
     },
     "execution_count": 233,
     "metadata": {},
     "output_type": "execute_result"
    }
   ],
   "source": [
    "r.__dict__"
   ]
  },
  {
   "cell_type": "code",
   "execution_count": 234,
   "metadata": {},
   "outputs": [
    {
     "data": {
      "text/plain": [
       "{'method': 'POST',\n",
       " 'url': 'http://10.42.7.100//login.tgi',\n",
       " 'headers': {'User-Agent': 'python-requests/2.31.0', 'Accept-Encoding': 'gzip, deflate', 'Accept': '*/*', 'Connection': 'keep-alive', 'Content-Type': 'application/x-www-form-urlencoded', 'Content-Length': '56'},\n",
       " '_cookies': <RequestsCookieJar[]>,\n",
       " 'body': 'Username=admin&Password=c339d189645132e11d88811258cb5ef4',\n",
       " 'hooks': {'response': []},\n",
       " '_body_position': None}"
      ]
     },
     "execution_count": 234,
     "metadata": {},
     "output_type": "execute_result"
    }
   ],
   "source": [
    "r.request.__dict__"
   ]
  },
  {
   "cell_type": "code",
   "execution_count": 235,
   "metadata": {},
   "outputs": [
    {
     "ename": "AttributeError",
     "evalue": "'Response' object has no attribute 'info'",
     "output_type": "error",
     "traceback": [
      "\u001b[1;31m---------------------------------------------------------------------------\u001b[0m",
      "\u001b[1;31mAttributeError\u001b[0m                            Traceback (most recent call last)",
      "Cell \u001b[1;32mIn[235], line 1\u001b[0m\n\u001b[1;32m----> 1\u001b[0m \u001b[43msession\u001b[49m\u001b[38;5;241;43m.\u001b[39;49m\u001b[43mcookies\u001b[49m\u001b[38;5;241;43m.\u001b[39;49m\u001b[43mextract_cookies\u001b[49m\u001b[43m(\u001b[49m\u001b[43mr\u001b[49m\u001b[43m,\u001b[49m\u001b[43mr\u001b[49m\u001b[38;5;241;43m.\u001b[39;49m\u001b[43mrequest\u001b[49m\u001b[43m)\u001b[49m\n",
      "File \u001b[1;32mc:\\Python312\\Lib\\http\\cookiejar.py:1682\u001b[0m, in \u001b[0;36mCookieJar.extract_cookies\u001b[1;34m(self, response, request)\u001b[0m\n\u001b[0;32m   1680\u001b[0m \u001b[38;5;28;01mdef\u001b[39;00m \u001b[38;5;21mextract_cookies\u001b[39m(\u001b[38;5;28mself\u001b[39m, response, request):\n\u001b[0;32m   1681\u001b[0m \u001b[38;5;250m    \u001b[39m\u001b[38;5;124;03m\"\"\"Extract cookies from response, where allowable given the request.\"\"\"\u001b[39;00m\n\u001b[1;32m-> 1682\u001b[0m     _debug(\u001b[38;5;124m\"\u001b[39m\u001b[38;5;124mextract_cookies: \u001b[39m\u001b[38;5;132;01m%s\u001b[39;00m\u001b[38;5;124m\"\u001b[39m, \u001b[43mresponse\u001b[49m\u001b[38;5;241;43m.\u001b[39;49m\u001b[43minfo\u001b[49m())\n\u001b[0;32m   1683\u001b[0m     \u001b[38;5;28mself\u001b[39m\u001b[38;5;241m.\u001b[39m_cookies_lock\u001b[38;5;241m.\u001b[39macquire()\n\u001b[0;32m   1684\u001b[0m     \u001b[38;5;28;01mtry\u001b[39;00m:\n",
      "\u001b[1;31mAttributeError\u001b[0m: 'Response' object has no attribute 'info'"
     ]
    }
   ],
   "source": [
    "session.cookies.extract_cookies(r,r.request)"
   ]
  },
  {
   "cell_type": "code",
   "execution_count": null,
   "metadata": {},
   "outputs": [
    {
     "data": {
      "text/plain": [
       "b'<HTML><HEAD>\\n\\n<META HTTP-EQUIV=\"refresh\" content=\"0; URL=/\">\\n\\n</HEAD><BODY></BODY>\\n</HTML>'"
      ]
     },
     "execution_count": 115,
     "metadata": {},
     "output_type": "execute_result"
    }
   ],
   "source": [
    "r.content"
   ]
  },
  {
   "cell_type": "code",
   "execution_count": null,
   "metadata": {},
   "outputs": [
    {
     "data": {
      "text/plain": [
       "<RequestsCookieJar[]>"
      ]
     },
     "execution_count": 116,
     "metadata": {},
     "output_type": "execute_result"
    }
   ],
   "source": [
    "r.cookies"
   ]
  },
  {
   "cell_type": "code",
   "execution_count": null,
   "metadata": {},
   "outputs": [
    {
     "data": {
      "text/plain": [
       "{'headers': HTTPHeaderDict({'Connection': 'close', 'Content-Type': 'text/html', 'Cache-Control': 'No-cache, no-store, must-revalidate, max-age=0', 'Expires': 'Mon, 01 Jan 1990 00:00:01 GMT', 'Pragma': 'no-cache', 'Set-Cookie': 'DLILPC=\"\"; Version=1; Max-Age=0; Path=/'}),\n",
       " 'status': 200,\n",
       " 'version': 10,\n",
       " 'reason': 'OK',\n",
       " 'decode_content': False,\n",
       " '_has_decoded_content': False,\n",
       " '_request_url': '//login.tgi',\n",
       " '_retries': Retry(total=0, connect=None, read=False, redirect=None, status=None),\n",
       " 'chunked': False,\n",
       " '_decoder': None,\n",
       " 'enforce_content_length': True,\n",
       " 'auto_close': True,\n",
       " '_body': None,\n",
       " '_fp': <http.client.HTTPResponse at 0x203074972e0>,\n",
       " '_original_response': <http.client.HTTPResponse at 0x203074972e0>,\n",
       " '_fp_bytes_read': 90,\n",
       " 'msg': None,\n",
       " '_pool': <urllib3.connectionpool.HTTPConnectionPool at 0x20307490d40>,\n",
       " '_connection': None,\n",
       " 'chunk_left': None,\n",
       " 'length_remaining': None,\n",
       " '_decoded_buffer': <urllib3.response.BytesQueueBuffer at 0x20307493ec0>}"
      ]
     },
     "execution_count": 117,
     "metadata": {},
     "output_type": "execute_result"
    }
   ],
   "source": [
    "r.raw.__dict__"
   ]
  },
  {
   "cell_type": "code",
   "execution_count": null,
   "metadata": {},
   "outputs": [
    {
     "data": {
      "text/plain": [
       "'DLILPC=\"\"; Version=1; Max-Age=0; Path=/'"
      ]
     },
     "execution_count": 118,
     "metadata": {},
     "output_type": "execute_result"
    }
   ],
   "source": [
    "r.raw.headers[\"Set-Cookie\"]"
   ]
  },
  {
   "cell_type": "code",
   "execution_count": null,
   "metadata": {},
   "outputs": [
    {
     "data": {
      "text/plain": [
       "{'policy': Compat32(),\n",
       " '_headers': [('Connection', 'close'),\n",
       "  ('Content-Type', 'text/html'),\n",
       "  ('Cache-Control', 'No-cache, no-store, must-revalidate, max-age=0'),\n",
       "  ('Expires', 'Mon, 01 Jan 1990 00:00:01 GMT'),\n",
       "  ('Pragma', 'no-cache'),\n",
       "  ('Set-Cookie', 'DLILPC=\"\"; Version=1; Max-Age=0; Path=/')],\n",
       " '_unixfrom': None,\n",
       " '_payload': '',\n",
       " '_charset': None,\n",
       " 'preamble': None,\n",
       " 'epilogue': None,\n",
       " 'defects': [],\n",
       " '_default_type': 'text/plain'}"
      ]
     },
     "execution_count": 119,
     "metadata": {},
     "output_type": "execute_result"
    }
   ],
   "source": [
    "r.raw._original_response.headers.__dict__"
   ]
  },
  {
   "cell_type": "code",
   "execution_count": null,
   "metadata": {},
   "outputs": [],
   "source": [
    "r2 = requests.get(HOSTNAME+\"index.htm\")"
   ]
  },
  {
   "cell_type": "code",
   "execution_count": null,
   "metadata": {},
   "outputs": [
    {
     "data": {
      "text/plain": [
       "{'_content': b'<HTML><HEAD>\\n\\n<META HTTP-EQUIV=\"refresh\" content=\"0; URL=/\">\\n\\n</HEAD><BODY></BODY>\\n</HTML>',\n",
       " '_content_consumed': True,\n",
       " '_next': None,\n",
       " 'status_code': 200,\n",
       " 'headers': {'Connection': 'close', 'Content-Type': 'text/html', 'Cache-Control': 'No-cache, no-store, must-revalidate, max-age=0', 'Expires': 'Mon, 01 Jan 1990 00:00:01 GMT', 'Pragma': 'no-cache', 'Set-Cookie': 'DLILPC=\"\"; Version=1; Max-Age=0; Path=/'},\n",
       " 'raw': <urllib3.response.HTTPResponse at 0x20307661450>,\n",
       " 'url': 'http://10.42.7.100/index.htm',\n",
       " 'encoding': 'ISO-8859-1',\n",
       " 'history': [],\n",
       " 'reason': 'OK',\n",
       " 'cookies': <RequestsCookieJar[]>,\n",
       " 'elapsed': datetime.timedelta(microseconds=58606),\n",
       " 'request': <PreparedRequest [GET]>,\n",
       " 'connection': <requests.adapters.HTTPAdapter at 0x20307660c50>}"
      ]
     },
     "execution_count": 121,
     "metadata": {},
     "output_type": "execute_result"
    }
   ],
   "source": [
    "r2.__dict__"
   ]
  },
  {
   "cell_type": "code",
   "execution_count": null,
   "metadata": {},
   "outputs": [
    {
     "data": {
      "text/plain": [
       "{'_content': b'<HTML><HEAD>\\n\\n<META HTTP-EQUIV=\"refresh\" content=\"0; URL=/\">\\n\\n</HEAD><BODY></BODY>\\n</HTML>',\n",
       " '_content_consumed': True,\n",
       " '_next': None,\n",
       " 'status_code': 200,\n",
       " 'headers': {'Connection': 'close', 'Content-Type': 'text/html', 'Cache-Control': 'No-cache, no-store, must-revalidate, max-age=0', 'Expires': 'Mon, 01 Jan 1990 00:00:01 GMT', 'Pragma': 'no-cache', 'Set-Cookie': 'DLILPC=\"\"; Version=1; Max-Age=0; Path=/'},\n",
       " 'raw': <urllib3.response.HTTPResponse at 0x20307497370>,\n",
       " 'url': 'http://10.42.7.100//login.tgi',\n",
       " 'encoding': 'ISO-8859-1',\n",
       " 'history': [],\n",
       " 'reason': 'OK',\n",
       " 'cookies': <RequestsCookieJar[]>,\n",
       " 'elapsed': datetime.timedelta(microseconds=65112),\n",
       " 'request': <PreparedRequest [POST]>,\n",
       " 'connection': <requests.adapters.HTTPAdapter at 0x20307493ce0>}"
      ]
     },
     "execution_count": 122,
     "metadata": {},
     "output_type": "execute_result"
    }
   ],
   "source": [
    "r.__dict__"
   ]
  },
  {
   "cell_type": "markdown",
   "metadata": {},
   "source": [
    "function calcResponse(){\n",
    "var str;\n",
    "str=document.login.Challenge.value+document.login.Username.value+document.login.Password.value+document.login.Challenge.value;\n",
    "document.secin.Password.value = hex_md5(str);\n",
    "document.secin.Username.value = document.login.Username.value;\n",
    "document.secin.submit();\n",
    "}//-->"
   ]
  },
  {
   "cell_type": "code",
   "execution_count": null,
   "metadata": {},
   "outputs": [
    {
     "name": "stdout",
     "output_type": "stream",
     "text": [
      "108a1735e7da722ae7f67cb8aa85a9d6\n"
     ]
    }
   ],
   "source": [
    "calculate_response(\"admin\",\"hi\",\"BiLymjzAes4ShsD\")"
   ]
  },
  {
   "cell_type": "code",
   "execution_count": null,
   "metadata": {},
   "outputs": [],
   "source": []
  }
 ],
 "metadata": {
  "kernelspec": {
   "display_name": ".venv",
   "language": "python",
   "name": "python3"
  },
  "language_info": {
   "codemirror_mode": {
    "name": "ipython",
    "version": 3
   },
   "file_extension": ".py",
   "mimetype": "text/x-python",
   "name": "python",
   "nbconvert_exporter": "python",
   "pygments_lexer": "ipython3",
   "version": "3.12.0"
  }
 },
 "nbformat": 4,
 "nbformat_minor": 2
}

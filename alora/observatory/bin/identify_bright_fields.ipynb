{
 "cells": [
  {
   "cell_type": "code",
   "execution_count": 1,
   "metadata": {},
   "outputs": [],
   "source": [
    "from astroquery.gaia import Gaia\n",
    "import numpy as np\n",
    "import matplotlib.pyplot as plt\n",
    "\n",
    "from astropy.table import Table\n",
    "from astropy.coordinates import SkyCoord\n",
    "import astropy.units as u\n",
    "from python_tsp.heuristics import solve_tsp_local_search\n",
    "import time\n"
   ]
  },
  {
   "cell_type": "code",
   "execution_count": 5,
   "metadata": {},
   "outputs": [],
   "source": [
    "rng = np.random.default_rng()"
   ]
  },
  {
   "cell_type": "code",
   "execution_count": 3,
   "metadata": {},
   "outputs": [],
   "source": [
    "from alora.astroutils import ObsConstraint\n",
    "from alora.astroutils.observing_utils import current_dt_utc, ang_sep"
   ]
  },
  {
   "cell_type": "code",
   "execution_count": 4,
   "metadata": {},
   "outputs": [],
   "source": [
    "obs_constraint = ObsConstraint()"
   ]
  },
  {
   "cell_type": "code",
   "execution_count": 6,
   "metadata": {},
   "outputs": [],
   "source": [
    "lst = obs_constraint.get_obs_lst()"
   ]
  },
  {
   "cell_type": "code",
   "execution_count": 8,
   "metadata": {},
   "outputs": [
    {
     "data": {
      "text/plain": [
       "np.float64(22.303663879982796)"
      ]
     },
     "execution_count": 8,
     "metadata": {},
     "output_type": "execute_result"
    }
   ],
   "source": [
    "lst.to_value(\"hourangle\")"
   ]
  },
  {
   "cell_type": "code",
   "execution_count": 8,
   "metadata": {},
   "outputs": [
    {
     "data": {
      "text/plain": [
       "(<Angle -60. deg>, <Angle 60. deg>)"
      ]
     },
     "execution_count": 8,
     "metadata": {},
     "output_type": "execute_result"
    }
   ],
   "source": [
    "obs_constraint.get_hour_angle_limits(0)"
   ]
  },
  {
   "cell_type": "code",
   "execution_count": 9,
   "metadata": {},
   "outputs": [],
   "source": [
    "NSAMPLES = 10"
   ]
  },
  {
   "cell_type": "code",
   "execution_count": 10,
   "metadata": {},
   "outputs": [],
   "source": [
    "# RAS = rng.uniform(-180,180,int(2*np.sqrt(NSAMPLES)))\n",
    "# DECS = rng.uniform(-90,90,int(2*np.sqrt(NSAMPLES)))"
   ]
  },
  {
   "cell_type": "code",
   "execution_count": 11,
   "metadata": {},
   "outputs": [
    {
     "data": {
      "text/plain": [
       "[(12.767155885877393, -21.083957341477884),\n",
       " (48.615432037093804, 29.074571632280836),\n",
       " (130.3317914796615, 72.81962632075042),\n",
       " (209.1175019781971, 79.40455845473093),\n",
       " (1.9745802453515093, 54.92172095848787),\n",
       " (324.82498446234933, -4.489943977925961),\n",
       " (80.94140035098057, 35.44973901489634),\n",
       " (133.9598807536226, 82.54734701088395),\n",
       " (302.7824517841185, 71.96240477833476),\n",
       " (297.9721153196399, 12.134432138994228)]"
      ]
     },
     "execution_count": 11,
     "metadata": {},
     "output_type": "execute_result"
    }
   ],
   "source": [
    "coords = []\n",
    "t=current_dt_utc()\n",
    "lst = obs_constraint.get_obs_lst()\n",
    "while len(coords) < NSAMPLES:\n",
    "    ra = rng.uniform(0,360)\n",
    "    dec = rng.uniform(-90,90)\n",
    "    if obs_constraint.observation_viable(dt=t,ra=ra*u.deg,dec=dec*u.deg, current_sidereal_time=lst):\n",
    "        coords.append((ra,dec))\n",
    "coords"
   ]
  },
  {
   "cell_type": "code",
   "execution_count": 12,
   "metadata": {},
   "outputs": [
    {
     "data": {
      "text/plain": [
       "<matplotlib.collections.PathCollection at 0x293c40f4830>"
      ]
     },
     "execution_count": 12,
     "metadata": {},
     "output_type": "execute_result"
    },
    {
     "data": {
      "image/png": "[encoded data removed]",
      "text/plain": [
       "<Figure size 640x480 with 1 Axes>"
      ]
     },
     "metadata": {},
     "output_type": "display_data"
    }
   ],
   "source": [
    "plt.scatter(np.array(coords)[:,0],np.array(coords)[:,1],s=1)"
   ]
  },
  {
   "cell_type": "code",
   "execution_count": 13,
   "metadata": {},
   "outputs": [],
   "source": [
    "FIELD_WIDTH = 24.4 #arcmin \n",
    "FIELD_HEIGHT = 18.5 # arcmin\n",
    "\n",
    "FIELD_WIDTH /= 60\n",
    "FIELD_HEIGHT /= 60\n",
    "\n",
    "MAG_LIM = 11\n",
    "RADIUS = 0.5  # search radius, degrees"
   ]
  },
  {
   "cell_type": "code",
   "execution_count": 14,
   "metadata": {},
   "outputs": [],
   "source": [
    "RA = 10.684\n",
    "DEC = 41.268\n",
    "coord = SkyCoord(RA*u.deg,DEC*u.deg)\n"
   ]
  },
  {
   "cell_type": "code",
   "execution_count": 15,
   "metadata": {},
   "outputs": [],
   "source": [
    "best_ras, best_decs, best_nums = [], [], []"
   ]
  },
  {
   "cell_type": "code",
   "execution_count": 16,
   "metadata": {},
   "outputs": [
    {
     "name": "stdout",
     "output_type": "stream",
     "text": [
      "querying 0.5 degrees around 12.767155885877393,-21.083957341477884\n",
      "Found 12 stars with mag < 11\n",
      "Best spot: (12.430421191999843, -21.053345096579925): 5 sources\n",
      "querying 0.5 degrees around 48.615432037093804,29.074571632280836\n",
      "Found 9 stars with mag < 11\n",
      "Best spot: (48.46237081260401, 28.799061428199202): 4 sources\n",
      "querying 0.5 degrees around 130.3317914796615,72.81962632075042\n",
      "Found 20 stars with mag < 11\n",
      "Best spot: (129.93383229598803, 72.72778958605655): 4 sources\n",
      "querying 0.5 degrees around 209.1175019781971,79.40455845473093\n",
      "Found 14 stars with mag < 11\n",
      "Best spot: (208.82158361085018, 79.10864008738399): 3 sources\n",
      "querying 0.5 degrees around 1.9745802453515093,54.92172095848787\n",
      "Found 49 stars with mag < 11\n",
      "Best spot: (1.6174373882086521, 54.62580259114093): 10 sources\n",
      "querying 0.5 degrees around 324.82498446234933,-4.489943977925961\n",
      "Found 12 stars with mag < 11\n",
      "Best spot: (325.05967833990036, -4.806270508538206): 4 sources\n",
      "querying 0.5 degrees around 80.94140035098057,35.44973901489634\n",
      "Found 35 stars with mag < 11\n",
      "Best spot: (80.82915545302139, 35.62320840265144): 9 sources\n",
      "querying 0.5 degrees around 133.9598807536226,82.54734701088395\n",
      "Found 26 stars with mag < 11\n",
      "Best spot: (133.54151340668383, 82.21061231700641): 2 sources\n",
      "querying 0.5 degrees around 302.7824517841185,71.96240477833476\n",
      "Found 26 stars with mag < 11\n",
      "Best spot: (302.4049007637103, 71.66648641098782): 4 sources\n",
      "querying 0.5 degrees around 297.9721153196399,12.134432138994228\n",
      "Found 66 stars with mag < 11\n",
      "Best spot: (298.1251765441297, 12.2058607104228): 16 sources\n"
     ]
    },
    {
     "data": {
      "text/html": [
       "<div><i>Table length=10</i>\n",
       "<table id=\"table2833706917504\" class=\"table-striped table-bordered table-condensed\">\n",
       "<thead><tr><th>ra</th><th>dec</th><th>n_bright</th></tr></thead>\n",
       "<thead><tr><th>float64</th><th>float64</th><th>int64</th></tr></thead>\n",
       "<tr><td>12.430421191999843</td><td>-21.053345096579925</td><td>5</td></tr>\n",
       "<tr><td>48.46237081260401</td><td>28.799061428199202</td><td>4</td></tr>\n",
       "<tr><td>129.93383229598803</td><td>72.72778958605655</td><td>4</td></tr>\n",
       "<tr><td>208.82158361085018</td><td>79.10864008738399</td><td>3</td></tr>\n",
       "<tr><td>1.6174373882086521</td><td>54.62580259114093</td><td>10</td></tr>\n",
       "<tr><td>325.05967833990036</td><td>-4.806270508538206</td><td>4</td></tr>\n",
       "<tr><td>80.82915545302139</td><td>35.62320840265144</td><td>9</td></tr>\n",
       "<tr><td>133.54151340668383</td><td>82.21061231700641</td><td>2</td></tr>\n",
       "<tr><td>302.4049007637103</td><td>71.66648641098782</td><td>4</td></tr>\n",
       "<tr><td>298.1251765441297</td><td>12.2058607104228</td><td>16</td></tr>\n",
       "</table></div>"
      ],
      "text/plain": [
       "<Table length=10>\n",
       "        ra                 dec         n_bright\n",
       "     float64             float64        int64  \n",
       "------------------ ------------------- --------\n",
       "12.430421191999843 -21.053345096579925        5\n",
       " 48.46237081260401  28.799061428199202        4\n",
       "129.93383229598803   72.72778958605655        4\n",
       "208.82158361085018   79.10864008738399        3\n",
       "1.6174373882086521   54.62580259114093       10\n",
       "325.05967833990036  -4.806270508538206        4\n",
       " 80.82915545302139   35.62320840265144        9\n",
       "133.54151340668383   82.21061231700641        2\n",
       " 302.4049007637103   71.66648641098782        4\n",
       " 298.1251765441297    12.2058607104228       16"
      ]
     },
     "execution_count": 16,
     "metadata": {},
     "output_type": "execute_result"
    }
   ],
   "source": [
    "for RA, DEC in coords:\n",
    "    query = f\"\"\"\n",
    "    SELECT\n",
    "    source_id,\n",
    "    ra,\n",
    "    dec,\n",
    "    phot_g_mean_mag\n",
    "    FROM\n",
    "    gaiadr3.gaia_source\n",
    "    WHERE\n",
    "    1=CONTAINS(\n",
    "        POINT('ICRS', ra, dec),\n",
    "        CIRCLE('ICRS', {RA}, {DEC}, {RADIUS})\n",
    "    )\n",
    "    AND phot_g_mean_mag < {MAG_LIM}\n",
    "    \"\"\"\n",
    "\n",
    "    print(f\"querying {RADIUS} degrees around {RA},{DEC}\")\n",
    "    job = Gaia.launch_job(query)\n",
    "\n",
    "    results = job.get_results()\n",
    "    print(f\"Found {len(results)} stars with mag < {MAG_LIM}\")\n",
    "    # results\n",
    "\n",
    "    RESOLUTION = 50\n",
    "\n",
    "    ras = np.linspace(RA-RADIUS,RA+RADIUS, RESOLUTION)\n",
    "    decs = np.linspace(DEC-RADIUS,DEC+RADIUS, RESOLUTION)\n",
    "\n",
    "    nums = np.empty((len(ras),len(decs)))\n",
    "\n",
    "\n",
    "    best_num = 0\n",
    "    best_ra, best_dec = None, None\n",
    "    for i, ra in enumerate(ras):\n",
    "        for j, dec in enumerate(decs):\n",
    "            n_in_box = np.sum((results[\"ra\"] >= ra-0.5*FIELD_WIDTH) & (results[\"ra\"] <= ra+0.5*FIELD_WIDTH) & (results[\"dec\"] >= dec-0.5*FIELD_HEIGHT) & (results[\"dec\"] <= dec + 0.5*FIELD_HEIGHT))\n",
    "            nums[i,j] = n_in_box\n",
    "            if n_in_box > best_num:\n",
    "                best_ra = ra\n",
    "                best_dec = dec\n",
    "                best_num = n_in_box\n",
    "\n",
    "    print(f\"Best spot: ({best_ra}, {best_dec}): {best_num} sources\")\n",
    "    best_ras.append(best_ra)\n",
    "    best_decs.append(best_dec)\n",
    "    best_nums.append(best_num)\n",
    "\n",
    "fields = Table()\n",
    "fields[\"ra\"] = best_ras \n",
    "fields[\"dec\"] = best_decs\n",
    "fields[\"n_bright\"] = best_nums\n",
    "fields"
   ]
  },
  {
   "cell_type": "code",
   "execution_count": 24,
   "metadata": {},
   "outputs": [],
   "source": [
    "c = SkyCoord(fields[\"ra\"]*u.deg,fields[\"dec\"]*u.deg)"
   ]
  },
  {
   "cell_type": "code",
   "execution_count": 33,
   "metadata": {},
   "outputs": [],
   "source": [
    "def dist_matrix(coords:SkyCoord):\n",
    "    M = np.zeros((len(coords), len(coords)))\n",
    "    indices = range(len(coords))\n",
    "    for i in indices:\n",
    "        for j in indices:\n",
    "            if i < j:\n",
    "                s1, s2 = coords[i], coords[j]\n",
    "                t = ang_sep(s1,s2).to_value(\"degree\")\n",
    "                M[i, j] = M[j, i] = t\n",
    "    # because we're solving tsp but not returning to beginning: \n",
    "    M[:, 0] = 0\n",
    "    return M"
   ]
  },
  {
   "cell_type": "code",
   "execution_count": 36,
   "metadata": {},
   "outputs": [
    {
     "name": "stdout",
     "output_type": "stream",
     "text": [
      "Solved with n=10 in t=0.0019057000754401088s\n"
     ]
    }
   ],
   "source": [
    "M = dist_matrix(c)\n",
    "start = time.perf_counter()\n",
    "permutation, distance = solve_tsp_local_search(M)\n",
    "print(f\"Solved with n={len(c)} in t={time.perf_counter()-start}s\")"
   ]
  },
  {
   "cell_type": "code",
   "execution_count": 37,
   "metadata": {},
   "outputs": [
    {
     "data": {
      "text/html": [
       "<div><i>Table length=10</i>\n",
       "<table id=\"table2833717518528\" class=\"table-striped table-bordered table-condensed\">\n",
       "<thead><tr><th>ra</th><th>dec</th><th>n_bright</th><th>sep</th></tr></thead>\n",
       "<thead><tr><th></th><th></th><th></th><th>rad</th></tr></thead>\n",
       "<thead><tr><th>float64</th><th>float64</th><th>int64</th><th>float64</th></tr></thead>\n",
       "<tr><td>12.430421191999843</td><td>-21.053345096579925</td><td>5</td><td>0.0</td></tr>\n",
       "<tr><td>325.05967833990036</td><td>-4.806270508538206</td><td>4</td><td>0.8500845267477157</td></tr>\n",
       "<tr><td>298.1251765441297</td><td>12.2058607104228</td><td>16</td><td>1.3991587220347297</td></tr>\n",
       "<tr><td>1.6174373882086521</td><td>54.62580259114093</td><td>10</td><td>1.3307382379379291</td></tr>\n",
       "<tr><td>302.4049007637103</td><td>71.66648641098782</td><td>4</td><td>1.8139094924458445</td></tr>\n",
       "<tr><td>208.82158361085018</td><td>79.10864008738399</td><td>3</td><td>2.1199129367577667</td></tr>\n",
       "<tr><td>133.54151340668383</td><td>82.21061231700641</td><td>2</td><td>2.0056491117685313</td></tr>\n",
       "<tr><td>129.93383229598803</td><td>72.72778958605655</td><td>4</td><td>2.0612187651495923</td></tr>\n",
       "<tr><td>80.82915545302139</td><td>35.62320840265144</td><td>9</td><td>1.5007013025269818</td></tr>\n",
       "<tr><td>48.46237081260401</td><td>28.799061428199202</td><td>4</td><td>1.0606540397379793</td></tr>\n",
       "</table></div>"
      ],
      "text/plain": [
       "<Table length=10>\n",
       "        ra                 dec         n_bright        sep        \n",
       "                                                       rad        \n",
       "     float64             float64        int64        float64      \n",
       "------------------ ------------------- -------- ------------------\n",
       "12.430421191999843 -21.053345096579925        5                0.0\n",
       "325.05967833990036  -4.806270508538206        4 0.8500845267477157\n",
       " 298.1251765441297    12.2058607104228       16 1.3991587220347297\n",
       "1.6174373882086521   54.62580259114093       10 1.3307382379379291\n",
       " 302.4049007637103   71.66648641098782        4 1.8139094924458445\n",
       "208.82158361085018   79.10864008738399        3 2.1199129367577667\n",
       "133.54151340668383   82.21061231700641        2 2.0056491117685313\n",
       "129.93383229598803   72.72778958605655        4 2.0612187651495923\n",
       " 80.82915545302139   35.62320840265144        9 1.5007013025269818\n",
       " 48.46237081260401  28.799061428199202        4 1.0606540397379793"
      ]
     },
     "execution_count": 37,
     "metadata": {},
     "output_type": "execute_result"
    }
   ],
   "source": [
    "fields = fields[permutation]\n",
    "fields"
   ]
  },
  {
   "cell_type": "code",
   "execution_count": null,
   "metadata": {},
   "outputs": [],
   "source": []
  },
  {
   "cell_type": "code",
   "execution_count": null,
   "metadata": {},
   "outputs": [],
   "source": []
  },
  {
   "cell_type": "code",
   "execution_count": 38,
   "metadata": {},
   "outputs": [
    {
     "data": {
      "text/plain": [
       "[<matplotlib.lines.Line2D at 0x293c7db4320>]"
      ]
     },
     "execution_count": 38,
     "metadata": {},
     "output_type": "execute_result"
    },
    {
     "data": {
      "image/png": "[encoded data removed]",
      "text/plain": [
       "<Figure size 640x480 with 1 Axes>"
      ]
     },
     "metadata": {},
     "output_type": "display_data"
    }
   ],
   "source": [
    "plt.plot(fields[\"ra\"],fields[\"dec\"])"
   ]
  },
  {
   "cell_type": "code",
   "execution_count": 89,
   "metadata": {},
   "outputs": [
    {
     "name": "stdout",
     "output_type": "stream",
     "text": [
      "<TableColumns names=('solution_id','DESIGNATION','SOURCE_ID','random_index','ref_epoch','ra','ra_error','dec','dec_error','parallax','parallax_error','parallax_over_error','pm','pmra','pmra_error','pmdec','pmdec_error','ra_dec_corr','ra_parallax_corr','ra_pmra_corr','ra_pmdec_corr','dec_parallax_corr','dec_pmra_corr','dec_pmdec_corr','parallax_pmra_corr','parallax_pmdec_corr','pmra_pmdec_corr','astrometric_n_obs_al','astrometric_n_obs_ac','astrometric_n_good_obs_al','astrometric_n_bad_obs_al','astrometric_gof_al','astrometric_chi2_al','astrometric_excess_noise','astrometric_excess_noise_sig','astrometric_params_solved','astrometric_primary_flag','nu_eff_used_in_astrometry','pseudocolour','pseudocolour_error','ra_pseudocolour_corr','dec_pseudocolour_corr','parallax_pseudocolour_corr','pmra_pseudocolour_corr','pmdec_pseudocolour_corr','astrometric_matched_transits','visibility_periods_used','astrometric_sigma5d_max','matched_transits','new_matched_transits','matched_transits_removed','ipd_gof_harmonic_amplitude','ipd_gof_harmonic_phase','ipd_frac_multi_peak','ipd_frac_odd_win','ruwe','scan_direction_strength_k1','scan_direction_strength_k2','scan_direction_strength_k3','scan_direction_strength_k4','scan_direction_mean_k1','scan_direction_mean_k2','scan_direction_mean_k3','scan_direction_mean_k4','duplicated_source','phot_g_n_obs','phot_g_mean_flux','phot_g_mean_flux_error','phot_g_mean_flux_over_error','phot_g_mean_mag','phot_bp_n_obs','phot_bp_mean_flux','phot_bp_mean_flux_error','phot_bp_mean_flux_over_error','phot_bp_mean_mag','phot_rp_n_obs','phot_rp_mean_flux','phot_rp_mean_flux_error','phot_rp_mean_flux_over_error','phot_rp_mean_mag','phot_bp_rp_excess_factor','phot_bp_n_contaminated_transits','phot_bp_n_blended_transits','phot_rp_n_contaminated_transits','phot_rp_n_blended_transits','phot_proc_mode','bp_rp','bp_g','g_rp','radial_velocity','radial_velocity_error','rv_method_used','rv_nb_transits','rv_nb_deblended_transits','rv_visibility_periods_used','rv_expected_sig_to_noise','rv_renormalised_gof','rv_chisq_pvalue','rv_time_duration','rv_amplitude_robust','rv_template_teff','rv_template_logg','rv_template_fe_h','rv_atm_param_origin','vbroad','vbroad_error','vbroad_nb_transits','grvs_mag','grvs_mag_error','grvs_mag_nb_transits','rvs_spec_sig_to_noise','phot_variable_flag','l','b','ecl_lon','ecl_lat','in_qso_candidates','in_galaxy_candidates','non_single_star','has_xp_continuous','has_xp_sampled','has_rvs','has_epoch_photometry','has_epoch_rv','has_mcmc_gspphot','has_mcmc_msc','in_andromeda_survey','classprob_dsc_combmod_quasar','classprob_dsc_combmod_galaxy','classprob_dsc_combmod_star','teff_gspphot','teff_gspphot_lower','teff_gspphot_upper','logg_gspphot','logg_gspphot_lower','logg_gspphot_upper','mh_gspphot','mh_gspphot_lower','mh_gspphot_upper','distance_gspphot','distance_gspphot_lower','distance_gspphot_upper','azero_gspphot','azero_gspphot_lower','azero_gspphot_upper','ag_gspphot','ag_gspphot_lower','ag_gspphot_upper','ebpminrp_gspphot','ebpminrp_gspphot_lower','ebpminrp_gspphot_upper','libname_gspphot')>\n"
     ]
    }
   ],
   "source": [
    "# get column names\n",
    "q = \"\"\"\n",
    "SELECT *\n",
    "FROM gaiadr3.gaia_source\n",
    "\"\"\"\n",
    "job = Gaia.launch_job(q)\n",
    "metadata = job.get_results()\n",
    "\n",
    "print(metadata.columns)\n"
   ]
  },
  {
   "cell_type": "code",
   "execution_count": 90,
   "metadata": {},
   "outputs": [],
   "source": [
    "# Gaia.query_object_async(coord,width=0.1*u.deg,height=0.1*u.deg)"
   ]
  },
  {
   "cell_type": "code",
   "execution_count": 91,
   "metadata": {},
   "outputs": [
    {
     "data": {
      "text/plain": [
       "\"\\nSELECT\\n  source_id,\\n  ra,\\n  dec,\\n  phot_g_mean_mag\\nFROM\\n  gaiadr3.gaia_source\\nWHERE\\n  1=CONTAINS(\\n    POINT('ICRS', ra, dec),\\n    CIRCLE('ICRS', 10.684, 41.268, 0.5)\\n  )\\n  AND phot_g_mean_mag < 11\\n\""
      ]
     },
     "execution_count": 91,
     "metadata": {},
     "output_type": "execute_result"
    }
   ],
   "source": [
    "query"
   ]
  },
  {
   "cell_type": "code",
   "execution_count": 92,
   "metadata": {},
   "outputs": [
    {
     "data": {
      "text/html": [
       "<div><i>Table length=24</i>\n",
       "<table id=\"table2166553720928\" class=\"table-striped table-bordered table-condensed\">\n",
       "<thead><tr><th>SOURCE_ID</th><th>ra</th><th>dec</th><th>phot_g_mean_mag</th></tr></thead>\n",
       "<thead><tr><th></th><th>deg</th><th>deg</th><th>mag</th></tr></thead>\n",
       "<thead><tr><th>int64</th><th>float64</th><th>float64</th><th>float32</th></tr></thead>\n",
       "<tr><td>381167803378329088</td><td>10.376961823526926</td><td>41.0528905965166</td><td>10.93436</td></tr>\n",
       "<tr><td>381258543149352064</td><td>10.608749166846083</td><td>41.09671184993717</td><td>9.483673</td></tr>\n",
       "<tr><td>381266587637831296</td><td>10.537464102530656</td><td>41.39182217687905</td><td>10.034954</td></tr>\n",
       "<tr><td>381269027173161088</td><td>10.840211624902983</td><td>41.36527668632988</td><td>10.854134</td></tr>\n",
       "<tr><td>381271501074306816</td><td>10.639534963546817</td><td>41.385429522379276</td><td>10.83179</td></tr>\n",
       "<tr><td>381274112414394496</td><td>10.756546520254734</td><td>41.50204385990195</td><td>10.668487</td></tr>\n",
       "<tr><td>381277514028514304</td><td>10.374005961687619</td><td>41.369739967377434</td><td>9.537494</td></tr>\n",
       "<tr><td>381285141893198336</td><td>10.568254179320162</td><td>41.51025612813797</td><td>10.752106</td></tr>\n",
       "<tr><td>381286722438357248</td><td>10.61628235597853</td><td>41.550139342013956</td><td>10.27978</td></tr>\n",
       "<tr><td>...</td><td>...</td><td>...</td><td>...</td></tr>\n",
       "<tr><td>369237586821696128</td><td>11.183230847231407</td><td>41.0566738055059</td><td>10.329876</td></tr>\n",
       "<tr><td>369240782277358464</td><td>11.134776613273765</td><td>41.09253517966223</td><td>10.278439</td></tr>\n",
       "<tr><td>369245111604163072</td><td>10.808943579377981</td><td>41.00948125173388</td><td>8.921322</td></tr>\n",
       "<tr><td>369245558280757632</td><td>10.856731786154326</td><td>41.035158772081886</td><td>10.512143</td></tr>\n",
       "<tr><td>369246898310562432</td><td>10.630056319186389</td><td>40.953509783306096</td><td>9.136511</td></tr>\n",
       "<tr><td>369253147484361984</td><td>10.885911917992653</td><td>41.152509062684395</td><td>10.492693</td></tr>\n",
       "<tr><td>369259675834685184</td><td>10.914200643020994</td><td>41.3755555847265</td><td>10.482423</td></tr>\n",
       "<tr><td>369264554917499520</td><td>11.202186469091936</td><td>41.16331529690814</td><td>10.478035</td></tr>\n",
       "<tr><td>369267990891372928</td><td>11.197774995394223</td><td>41.31356681011383</td><td>8.891297</td></tr>\n",
       "</table></div>"
      ],
      "text/plain": [
       "<Table length=24>\n",
       "    SOURCE_ID              ra                dec         phot_g_mean_mag\n",
       "                          deg                deg               mag      \n",
       "      int64             float64            float64           float32    \n",
       "------------------ ------------------ ------------------ ---------------\n",
       "381167803378329088 10.376961823526926   41.0528905965166        10.93436\n",
       "381258543149352064 10.608749166846083  41.09671184993717        9.483673\n",
       "381266587637831296 10.537464102530656  41.39182217687905       10.034954\n",
       "381269027173161088 10.840211624902983  41.36527668632988       10.854134\n",
       "381271501074306816 10.639534963546817 41.385429522379276        10.83179\n",
       "381274112414394496 10.756546520254734  41.50204385990195       10.668487\n",
       "381277514028514304 10.374005961687619 41.369739967377434        9.537494\n",
       "381285141893198336 10.568254179320162  41.51025612813797       10.752106\n",
       "381286722438357248  10.61628235597853 41.550139342013956        10.27978\n",
       "               ...                ...                ...             ...\n",
       "369237586821696128 11.183230847231407   41.0566738055059       10.329876\n",
       "369240782277358464 11.134776613273765  41.09253517966223       10.278439\n",
       "369245111604163072 10.808943579377981  41.00948125173388        8.921322\n",
       "369245558280757632 10.856731786154326 41.035158772081886       10.512143\n",
       "369246898310562432 10.630056319186389 40.953509783306096        9.136511\n",
       "369253147484361984 10.885911917992653 41.152509062684395       10.492693\n",
       "369259675834685184 10.914200643020994   41.3755555847265       10.482423\n",
       "369264554917499520 11.202186469091936  41.16331529690814       10.478035\n",
       "369267990891372928 11.197774995394223  41.31356681011383        8.891297"
      ]
     },
     "execution_count": 92,
     "metadata": {},
     "output_type": "execute_result"
    }
   ],
   "source": [
    "job = Gaia.launch_job(query)\n",
    "\n",
    "results = job.get_results()\n",
    "results"
   ]
  },
  {
   "cell_type": "code",
   "execution_count": 93,
   "metadata": {},
   "outputs": [
    {
     "data": {
      "image/png": "[encoded data removed]",
      "text/plain": [
       "<Figure size 640x480 with 1 Axes>"
      ]
     },
     "metadata": {},
     "output_type": "display_data"
    }
   ],
   "source": [
    "plt.scatter(results['ra'], results['dec'], s=10, color='red', alpha=0.6)\n",
    "plt.title(f'Very Bright Stars (mag < {MAG_LIM}) within {RADIUS}° of RA={RA}, Dec={DEC}')\n",
    "plt.xlabel('Right Ascension (degrees)')\n",
    "plt.ylabel('Declination (degrees)')\n",
    "plt.show()\n"
   ]
  },
  {
   "cell_type": "code",
   "execution_count": 94,
   "metadata": {},
   "outputs": [
    {
     "data": {
      "text/plain": [
       "(np.float64(11.000326530612243), np.float64(41.012897959183675), np.int64(8))"
      ]
     },
     "execution_count": 94,
     "metadata": {},
     "output_type": "execute_result"
    }
   ],
   "source": [
    "RESOLUTION = 50\n",
    "\n",
    "ras = np.linspace(RA-RADIUS,RA+RADIUS, RESOLUTION)\n",
    "decs = np.linspace(DEC-RADIUS,DEC+RADIUS, RESOLUTION)\n",
    "\n",
    "nums = np.empty((len(ras),len(decs)))\n",
    "\n",
    "\n",
    "best_num = 0\n",
    "best_ra, best_dec = None, None\n",
    "for i, ra in enumerate(ras):\n",
    "    for j, dec in enumerate(decs):\n",
    "        n_in_box = np.sum((results[\"ra\"] >= ra-0.5*FIELD_WIDTH) & (results[\"ra\"] <= ra+0.5*FIELD_WIDTH) & (results[\"dec\"] >= dec-0.5*FIELD_HEIGHT) & (results[\"dec\"] <= dec + 0.5*FIELD_HEIGHT))\n",
    "        nums[i,j] = n_in_box\n",
    "        if n_in_box > best_num:\n",
    "            best_ra = ra\n",
    "            best_dec = dec\n",
    "            best_num = n_in_box\n",
    "best_ra, best_dec, best_num"
   ]
  },
  {
   "cell_type": "code",
   "execution_count": 95,
   "metadata": {},
   "outputs": [
    {
     "data": {
      "text/html": [
       "<div><i>Table length=8</i>\n",
       "<table id=\"table2166558930464\" class=\"table-striped table-bordered table-condensed\">\n",
       "<thead><tr><th>SOURCE_ID</th><th>ra</th><th>dec</th><th>phot_g_mean_mag</th></tr></thead>\n",
       "<thead><tr><th></th><th>deg</th><th>deg</th><th>mag</th></tr></thead>\n",
       "<thead><tr><th>int64</th><th>float64</th><th>float64</th><th>float32</th></tr></thead>\n",
       "<tr><td>369232291123186688</td><td>10.909879256624698</td><td>40.90415281643903</td><td>9.885935</td></tr>\n",
       "<tr><td>369235112920315648</td><td>11.029861579618807</td><td>40.93839714181129</td><td>10.982586</td></tr>\n",
       "<tr><td>369237586821696128</td><td>11.183230847231407</td><td>41.0566738055059</td><td>10.329876</td></tr>\n",
       "<tr><td>369240782277358464</td><td>11.134776613273765</td><td>41.09253517966223</td><td>10.278439</td></tr>\n",
       "<tr><td>369245111604163072</td><td>10.808943579377981</td><td>41.00948125173388</td><td>8.921322</td></tr>\n",
       "<tr><td>369245558280757632</td><td>10.856731786154326</td><td>41.035158772081886</td><td>10.512143</td></tr>\n",
       "<tr><td>369253147484361984</td><td>10.885911917992653</td><td>41.152509062684395</td><td>10.492693</td></tr>\n",
       "<tr><td>369264554917499520</td><td>11.202186469091936</td><td>41.16331529690814</td><td>10.478035</td></tr>\n",
       "</table></div>"
      ],
      "text/plain": [
       "<Table length=8>\n",
       "    SOURCE_ID              ra                dec         phot_g_mean_mag\n",
       "                          deg                deg               mag      \n",
       "      int64             float64            float64           float32    \n",
       "------------------ ------------------ ------------------ ---------------\n",
       "369232291123186688 10.909879256624698  40.90415281643903        9.885935\n",
       "369235112920315648 11.029861579618807  40.93839714181129       10.982586\n",
       "369237586821696128 11.183230847231407   41.0566738055059       10.329876\n",
       "369240782277358464 11.134776613273765  41.09253517966223       10.278439\n",
       "369245111604163072 10.808943579377981  41.00948125173388        8.921322\n",
       "369245558280757632 10.856731786154326 41.035158772081886       10.512143\n",
       "369253147484361984 10.885911917992653 41.152509062684395       10.492693\n",
       "369264554917499520 11.202186469091936  41.16331529690814       10.478035"
      ]
     },
     "execution_count": 95,
     "metadata": {},
     "output_type": "execute_result"
    }
   ],
   "source": [
    "results[(results[\"ra\"] >= best_ra-0.5*FIELD_WIDTH) & (results[\"ra\"] <= best_ra+0.5*FIELD_WIDTH) & (results[\"dec\"] >= best_dec-0.5*FIELD_HEIGHT) & (results[\"dec\"] <= best_dec + 0.5*FIELD_HEIGHT)]"
   ]
  },
  {
   "cell_type": "code",
   "execution_count": 106,
   "metadata": {},
   "outputs": [
    {
     "data": {
      "image/png": "[encoded data removed]",
      "text/plain": [
       "<Figure size 640x480 with 1 Axes>"
      ]
     },
     "metadata": {},
     "output_type": "display_data"
    }
   ],
   "source": [
    "# Create a 2D histogram for density visualization\n",
    "plt.scatter(results['ra'], results['dec'], s=(50/results[\"phot_g_mean_mag\"])**2, color='red', alpha=0.6)\n",
    "plt.gca().add_patch(Rectangle((best_ra-FIELD_WIDTH/2, best_dec-FIELD_HEIGHT/2), FIELD_WIDTH, FIELD_HEIGHT, linewidth=2, edgecolor='red', facecolor='none'))\n",
    "# plt.colorbar(label='Star Density')\n",
    "plt.title(f'Bright Stars (mag < {MAG_LIM}) within {RADIUS}° of RA={RA}, Dec={DEC}')\n",
    "plt.xlabel('RA (degrees)')\n",
    "plt.ylabel('Dec (degrees)')\n",
    "plt.show()\n"
   ]
  },
  {
   "cell_type": "code",
   "execution_count": 100,
   "metadata": {},
   "outputs": [
    {
     "ename": "NameError",
     "evalue": "name 'min_ra' is not defined",
     "output_type": "error",
     "traceback": [
      "\u001b[1;31m---------------------------------------------------------------------------\u001b[0m",
      "\u001b[1;31mNameError\u001b[0m                                 Traceback (most recent call last)",
      "Cell \u001b[1;32mIn[100], line 2\u001b[0m\n\u001b[0;32m      1\u001b[0m query_size \u001b[38;5;241m=\u001b[39m \u001b[38;5;241m0.\u001b[39m\n\u001b[1;32m----> 2\u001b[0m \u001b[43mmin_ra\u001b[49m, min_dec\n",
      "\u001b[1;31mNameError\u001b[0m: name 'min_ra' is not defined"
     ]
    }
   ],
   "source": [
    "query_size = 0.\n",
    "min_ra, min_dec"
   ]
  },
  {
   "cell_type": "code",
   "execution_count": 9,
   "metadata": {},
   "outputs": [],
   "source": [
    "import os"
   ]
  },
  {
   "cell_type": "code",
   "execution_count": 10,
   "metadata": {},
   "outputs": [],
   "source": [
    "dir = r\"C:\\Users\\chell\\PycharmProjects\\alora\\alora\\observatory\\bin\"\n",
    "\n",
    "prefiles = set(os.listdir(dir))\n",
    "\n",
    "        \n"
   ]
  },
  {
   "cell_type": "code",
   "execution_count": 12,
   "metadata": {},
   "outputs": [
    {
     "data": {
      "text/plain": [
       "set()"
      ]
     },
     "execution_count": 12,
     "metadata": {},
     "output_type": "execute_result"
    }
   ],
   "source": [
    "img = prefiles - set(os.listdir(dir))\n",
    "img"
   ]
  },
  {
   "cell_type": "code",
   "execution_count": 13,
   "metadata": {},
   "outputs": [
    {
     "data": {
      "text/plain": [
       "['close.py',\n",
       " 'hi.txt',\n",
       " 'home.py',\n",
       " 'identify_bright_fields.ipynb',\n",
       " 'open.py',\n",
       " 'park.py',\n",
       " 'pointing_model.py',\n",
       " 'slew_to.py',\n",
       " 'solve.py',\n",
       " 'take_images.py']"
      ]
     },
     "execution_count": 13,
     "metadata": {},
     "output_type": "execute_result"
    }
   ],
   "source": [
    "os.listdir(dir)"
   ]
  },
  {
   "cell_type": "code",
   "execution_count": 16,
   "metadata": {},
   "outputs": [
    {
     "data": {
      "text/plain": [
       "['hi.txt']"
      ]
     },
     "execution_count": 16,
     "metadata": {},
     "output_type": "execute_result"
    }
   ],
   "source": [
    "[f for f in os.listdir(dir) if f not in prefiles]"
   ]
  },
  {
   "cell_type": "code",
   "execution_count": null,
   "metadata": {},
   "outputs": [],
   "source": []
  }
 ],
 "metadata": {
  "kernelspec": {
   "display_name": ".venv",
   "language": "python",
   "name": "python3"
  },
  "language_info": {
   "codemirror_mode": {
    "name": "ipython",
    "version": 3
   },
   "file_extension": ".py",
   "mimetype": "text/x-python",
   "name": "python",
   "nbconvert_exporter": "python",
   "pygments_lexer": "ipython3",
   "version": "3.12.0"
  }
 },
 "nbformat": 4,
 "nbformat_minor": 2
}

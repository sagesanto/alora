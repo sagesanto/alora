{
 "cells": [
  {
   "cell_type": "code",
   "execution_count": 39,
   "metadata": {},
   "outputs": [],
   "source": [
    "import keyring\n",
    "from astroquery.astrometry_net import AstrometryNet\n",
    "from alora.astroutils import calc_mean_fwhm, source_catalog\n",
    "\n",
    "import matplotlib.pyplot as plt\n",
    "\n",
    "from astropy.table import Table\n",
    "from astropy.coordinates import SkyCoord, Angle\n",
    "import astropy.units as u\n",
    "from astropy.io import fits"
   ]
  },
  {
   "cell_type": "code",
   "execution_count": 35,
   "metadata": {},
   "outputs": [
    {
     "name": "stderr",
     "output_type": "stream",
     "text": [
      "WARNING: The deblending mode of one or more source labels from the input segmentation image was changed from \"exponential\" to \"linear\". See the \"info\" attribute for the list of affected input labels. [photutils.segmentation.deblend]\n"
     ]
    },
    {
     "data": {
      "text/plain": [
       "5.615064444628027"
      ]
     },
     "execution_count": 35,
     "metadata": {},
     "output_type": "execute_result"
    }
   ],
   "source": [
    "DATA_DIR = r\"im4_L_20241216_2x2_00000833.fit\"\n",
    "with fits.open(DATA_DIR) as hdul:\n",
    "    data = hdul[0].data\n",
    "    header = hdul[0].header\n",
    "mean_fwhm = calc_mean_fwhm(data)\n",
    "mean_fwhm"
   ]
  },
  {
   "cell_type": "code",
   "execution_count": 41,
   "metadata": {},
   "outputs": [],
   "source": [
    "guess_coords = SkyCoord(Angle(header[\"OBJCTRA\"],unit=\"hourangle\"), Angle(header[\"OBJCTDEC\"],unit=\"deg\"))"
   ]
  },
  {
   "cell_type": "code",
   "execution_count": 66,
   "metadata": {},
   "outputs": [
    {
     "data": {
      "text/plain": [
       "('17 26 57.065', '+65 15 14.34')"
      ]
     },
     "execution_count": 66,
     "metadata": {},
     "output_type": "execute_result"
    }
   ],
   "source": [
    "ra, dec = header[\"OBJCTRA\"], header[\"OBJCTDEC\"]"
   ]
  },
  {
   "cell_type": "code",
   "execution_count": 23,
   "metadata": {},
   "outputs": [
    {
     "name": "stderr",
     "output_type": "stream",
     "text": [
      "WARNING: The deblending mode of one or more source labels from the input segmentation image was changed from \"exponential\" to \"linear\". See the \"info\" attribute for the list of affected input labels. [photutils.segmentation.deblend]\n"
     ]
    },
    {
     "data": {
      "text/html": [
       "<div><i>QTable length=19</i>\n",
       "<table id=\"table2171682463168\" class=\"table-striped table-bordered table-condensed\">\n",
       "<thead><tr><th>label</th><th>xcentroid</th><th>ycentroid</th><th>sky_centroid</th><th>bbox_xmin</th><th>bbox_xmax</th><th>bbox_ymin</th><th>bbox_ymax</th><th>area</th><th>semimajor_sigma</th><th>semiminor_sigma</th><th>orientation</th><th>eccentricity</th><th>min_value</th><th>max_value</th><th>local_background</th><th>segment_flux</th><th>segment_fluxerr</th><th>kron_flux</th><th>kron_fluxerr</th><th>fwhm</th></tr></thead>\n",
       "<thead><tr><th></th><th></th><th></th><th></th><th></th><th></th><th></th><th></th><th>pix2</th><th>pix</th><th>pix</th><th>deg</th><th></th><th></th><th></th><th></th><th></th><th></th><th></th><th></th><th>pix</th></tr></thead>\n",
       "<thead><tr><th>int64</th><th>float64</th><th>float64</th><th>object</th><th>int64</th><th>int64</th><th>int64</th><th>int64</th><th>float64</th><th>float64</th><th>float64</th><th>float64</th><th>float64</th><th>float64</th><th>float64</th><th>float64</th><th>float64</th><th>float64</th><th>float64</th><th>float64</th><th>float64</th></tr></thead>\n",
       "<tr><td>5</td><td>847.1947239263803</td><td>544.8333742331288</td><td>None</td><td>838</td><td>857</td><td>534</td><td>555</td><td>336.0</td><td>4.027153411172908</td><td>3.4446951100692864</td><td>63.063465531497776</td><td>0.5180220842450515</td><td>0.0</td><td>416.0</td><td>0.0</td><td>32600.0</td><td>nan</td><td>37549.46925570314</td><td>nan</td><td>8.82411887463872</td></tr>\n",
       "<tr><td>18</td><td>241.20720469142697</td><td>1636.1709019826865</td><td>None</td><td>231</td><td>251</td><td>1626</td><td>1647</td><td>353.0</td><td>4.343408922788694</td><td>3.992501246424753</td><td>-59.12864479200889</td><td>0.3937696396025008</td><td>0.0</td><td>276.0</td><td>0.0</td><td>28648.0</td><td>nan</td><td>31903.89698200508</td><td>nan</td><td>9.823476549388822</td></tr>\n",
       "<tr><td>10</td><td>919.8098201936376</td><td>627.7017634854772</td><td>None</td><td>911</td><td>928</td><td>618</td><td>637</td><td>280.0</td><td>3.7813660749646694</td><td>3.321924461216585</td><td>71.70883509548234</td><td>0.4777450874476269</td><td>0.0</td><td>284.0</td><td>0.0</td><td>23136.0</td><td>nan</td><td>28811.985796713816</td><td>nan</td><td>8.380961601605502</td></tr>\n",
       "<tr><td>3</td><td>1916.901144640999</td><td>497.2598855359001</td><td>None</td><td>1908</td><td>1926</td><td>489</td><td>506</td><td>249.0</td><td>3.9888403523828506</td><td>3.537244678434123</td><td>-27.879946753622757</td><td>0.46218174951767915</td><td>-8.0</td><td>140.0</td><td>0.0</td><td>15368.0</td><td>nan</td><td>19182.318404641155</td><td>nan</td><td>8.877226090334121</td></tr>\n",
       "<tr><td>16</td><td>551.8418238993711</td><td>1409.685534591195</td><td>None</td><td>544</td><td>559</td><td>1402</td><td>1418</td><td>217.0</td><td>3.6022531423663127</td><td>3.407565017177621</td><td>-79.99971330133208</td><td>0.32430144119304816</td><td>8.0</td><td>148.0</td><td>0.0</td><td>12720.0</td><td>nan</td><td>18197.912716111867</td><td>nan</td><td>8.256612787259755</td></tr>\n",
       "<tr><td>17</td><td>329.6018766756032</td><td>1430.054959785523</td><td>None</td><td>324</td><td>335</td><td>1424</td><td>1436</td><td>131.0</td><td>2.9702215515258357</td><td>2.8258503279901945</td><td>87.07405192823381</td><td>0.3079770501708247</td><td>12.0</td><td>96.0</td><td>0.0</td><td>5968.0</td><td>nan</td><td>10369.114823183281</td><td>nan</td><td>6.826469815278339</td></tr>\n",
       "<tr><td>1</td><td>1298.9918931807345</td><td>277.967095851216</td><td>None</td><td>1294</td><td>1304</td><td>273</td><td>282</td><td>82.0</td><td>0.5557556390240905</td><td>0.4833435927836469</td><td>-26.231910521301373</td><td>0.49357146518496076</td><td>-12.0</td><td>8076.0</td><td>0.0</td><td>8236.0</td><td>nan</td><td>8096.684549866596</td><td>nan</td><td>1.2264129762529576</td></tr>\n",
       "<tr><td>19</td><td>1270.0418994413408</td><td>1633.7150837988827</td><td>None</td><td>1267</td><td>1273</td><td>1631</td><td>1637</td><td>40.0</td><td>1.8430302016279059</td><td>1.6024334321784353</td><td>33.34508210513117</td><td>0.49401061284868875</td><td>16.0</td><td>60.0</td><td>0.0</td><td>1432.0</td><td>nan</td><td>6410.1247650179885</td><td>nan</td><td>4.066602146144283</td></tr>\n",
       "<tr><td>11</td><td>199.98616600790513</td><td>724.9848484848485</td><td>None</td><td>196</td><td>204</td><td>721</td><td>729</td><td>69.0</td><td>0.5300810644426392</td><td>0.42394125442024766</td><td>27.976805864800745</td><td>0.6003107628513883</td><td>-20.0</td><td>5820.0</td><td>0.0</td><td>5876.0</td><td>nan</td><td>5790.259690271383</td><td>nan</td><td>1.1302058369510912</td></tr>\n",
       "<tr><td>4</td><td>2144.1147540983607</td><td>519.0819672131148</td><td>None</td><td>2143</td><td>2145</td><td>518</td><td>520</td><td>8.0</td><td>0.949468883915649</td><td>0.6750339929866306</td><td>-43.306628822777135</td><td>0.7032328807085055</td><td>16.0</td><td>44.0</td><td>0.0</td><td>244.0</td><td>nan</td><td>3548.384011230979</td><td>nan</td><td>1.9398072592363391</td></tr>\n",
       "<tr><td>7</td><td>2050.0055248618783</td><td>551.97605893186</td><td>None</td><td>2047</td><td>2053</td><td>549</td><td>554</td><td>28.0</td><td>0.3627821286248131</td><td>0.2917133219340706</td><td>-35.413927139174696</td><td>0.5944932706524652</td><td>-16.0</td><td>2056.0</td><td>0.0</td><td>2076.0</td><td>nan</td><td>2071.5637611803054</td><td>nan</td><td>0.7751392569632927</td></tr>\n",
       "<tr><td>2</td><td>2237.9850746268658</td><td>329.0018656716418</td><td>None</td><td>2236</td><td>2240</td><td>327</td><td>331</td><td>25.0</td><td>0.4179175783647997</td><td>0.3877723641761143</td><td>-56.573957937852335</td><td>0.37290870327810594</td><td>-16.0</td><td>2080.0</td><td>0.0</td><td>2056.0</td><td>nan</td><td>2055.7206867263617</td><td>nan</td><td>0.9492911788092752</td></tr>\n",
       "<tr><td>14</td><td>906.0601941747573</td><td>1109.0077669902912</td><td>None</td><td>903</td><td>909</td><td>1106</td><td>1112</td><td>37.0</td><td>0.7071334191322589</td><td>0.5353222626319109</td><td>19.612021101936694</td><td>0.6533783973906682</td><td>-12.0</td><td>1780.0</td><td>0.0</td><td>2024.0</td><td>nan</td><td>1892.750679818789</td><td>nan</td><td>1.4768003768844173</td></tr>\n",
       "<tr><td>8</td><td>287.975</td><td>581.0159090909091</td><td>None</td><td>286</td><td>290</td><td>579</td><td>583</td><td>23.0</td><td>0.4366615834638794</td><td>0.32931529322711955</td><td>-49.90453511199654</td><td>0.6566838935715066</td><td>-16.0</td><td>1624.0</td><td>0.0</td><td>1728.0</td><td>nan</td><td>1630.716053376779</td><td>nan</td><td>0.9106821667334499</td></tr>\n",
       "<tr><td>9</td><td>178.9928229665072</td><td>608.9928229665072</td><td>None</td><td>177</td><td>181</td><td>607</td><td>611</td><td>21.0</td><td>0.4204638060802031</td><td>0.38427668634176476</td><td>-4.831127486428748</td><td>0.40586006320912565</td><td>-16.0</td><td>1604.0</td><td>0.0</td><td>1596.0</td><td>nan</td><td>1577.1441642862017</td><td>nan</td><td>0.9484670031200355</td></tr>\n",
       "<tr><td>15</td><td>1519.0</td><td>1263.9950495049504</td><td>None</td><td>1517</td><td>1521</td><td>1262</td><td>1266</td><td>22.0</td><td>0.3663420554198237</td><td>0.2975588483935009</td><td>6.2610686325457054</td><td>0.5833189195123775</td><td>-8.0</td><td>1508.0</td><td>0.0</td><td>1600.0</td><td>nan</td><td>1517.7616448779238</td><td>nan</td><td>0.7858676444064752</td></tr>\n",
       "<tr><td>6</td><td>1158.9546742209632</td><td>546.9405099150142</td><td>None</td><td>1157</td><td>1161</td><td>545</td><td>549</td><td>21.0</td><td>0.42123325077259843</td><td>0.31212547120829504</td><td>12.678554603815407</td><td>0.671526945763828</td><td>-8.0</td><td>1308.0</td><td>0.0</td><td>1400.0</td><td>nan</td><td>1324.8588190246576</td><td>nan</td><td>0.8729679687540913</td></tr>\n",
       "<tr><td>13</td><td>653.0063897763579</td><td>928.0095846645368</td><td>None</td><td>651</td><td>655</td><td>926</td><td>930</td><td>13.0</td><td>0.39958012830230444</td><td>0.3536672946657692</td><td>-73.04709158898247</td><td>0.4654060171480446</td><td>-4.0</td><td>1180.0</td><td>0.0</td><td>1244.0</td><td>nan</td><td>1207.9586194990056</td><td>nan</td><td>0.8885270486363316</td></tr>\n",
       "<tr><td>12</td><td>2203.0</td><td>915.9932203389831</td><td>None</td><td>2202</td><td>2204</td><td>915</td><td>917</td><td>9.0</td><td>0.33310252053218603</td><td>0.2992686397920976</td><td>80.76306370990488</td><td>0.4391208069507585</td><td>-8.0</td><td>1144.0</td><td>0.0</td><td>1164.0</td><td>nan</td><td>1158.7257177748597</td><td>nan</td><td>0.7456250666595631</td></tr>\n",
       "</table></div>"
      ],
      "text/plain": [
       "<QTable length=19>\n",
       "label     xcentroid          ycentroid      ... kron_fluxerr        fwhm       \n",
       "                                            ...                     pix        \n",
       "int64      float64            float64       ...   float64         float64      \n",
       "----- ------------------ ------------------ ... ------------ ------------------\n",
       "    5  847.1947239263803  544.8333742331288 ...          nan   8.82411887463872\n",
       "   18 241.20720469142697 1636.1709019826865 ...          nan  9.823476549388822\n",
       "   10  919.8098201936376  627.7017634854772 ...          nan  8.380961601605502\n",
       "    3  1916.901144640999  497.2598855359001 ...          nan  8.877226090334121\n",
       "   16  551.8418238993711  1409.685534591195 ...          nan  8.256612787259755\n",
       "   17  329.6018766756032  1430.054959785523 ...          nan  6.826469815278339\n",
       "    1 1298.9918931807345   277.967095851216 ...          nan 1.2264129762529576\n",
       "   19 1270.0418994413408 1633.7150837988827 ...          nan  4.066602146144283\n",
       "   11 199.98616600790513  724.9848484848485 ...          nan 1.1302058369510912\n",
       "    4 2144.1147540983607  519.0819672131148 ...          nan 1.9398072592363391\n",
       "    7 2050.0055248618783    551.97605893186 ...          nan 0.7751392569632927\n",
       "    2 2237.9850746268658  329.0018656716418 ...          nan 0.9492911788092752\n",
       "   14  906.0601941747573 1109.0077669902912 ...          nan 1.4768003768844173\n",
       "    8            287.975  581.0159090909091 ...          nan 0.9106821667334499\n",
       "    9  178.9928229665072  608.9928229665072 ...          nan 0.9484670031200355\n",
       "   15             1519.0 1263.9950495049504 ...          nan 0.7858676444064752\n",
       "    6 1158.9546742209632  546.9405099150142 ...          nan 0.8729679687540913\n",
       "   13  653.0063897763579  928.0095846645368 ...          nan 0.8885270486363316\n",
       "   12             2203.0  915.9932203389831 ...          nan 0.7456250666595631"
      ]
     },
     "execution_count": 23,
     "metadata": {},
     "output_type": "execute_result"
    }
   ],
   "source": [
    "mycat = source_catalog(data,source_sigma=3,ncont=5,fwhm_pix=mean_fwhm)\n",
    "mycat"
   ]
  },
  {
   "cell_type": "code",
   "execution_count": 15,
   "metadata": {},
   "outputs": [
    {
     "data": {
      "text/html": [
       "<div><i>Table length=401</i>\n",
       "<table id=\"table2171682397248\" class=\"table-striped table-bordered table-condensed\">\n",
       "<thead><tr><th>X</th><th>Y</th><th>FLUX</th><th>BACKGROUND</th></tr></thead>\n",
       "<thead><tr><th>float32</th><th>float32</th><th>float32</th><th>float32</th></tr></thead>\n",
       "<tr><td>1299.9495</td><td>279.02258</td><td>284.3308</td><td>186.14813</td></tr>\n",
       "<tr><td>848.3542</td><td>545.91876</td><td>272.4346</td><td>187.57803</td></tr>\n",
       "<tr><td>201.02235</td><td>725.9589</td><td>204.57933</td><td>185.21574</td></tr>\n",
       "<tr><td>243.08138</td><td>1636.2616</td><td>201.611</td><td>183.92813</td></tr>\n",
       "<tr><td>1917.4055</td><td>498.42236</td><td>106.728</td><td>184.93527</td></tr>\n",
       "<tr><td>907.1247</td><td>1110.0459</td><td>64.79219</td><td>188.72084</td></tr>\n",
       "<tr><td>1520.0249</td><td>1264.9215</td><td>52.875397</td><td>187.54926</td></tr>\n",
       "<tr><td>2203.8938</td><td>916.99365</td><td>40.692764</td><td>184.38939</td></tr>\n",
       "<tr><td>920.9365</td><td>628.78796</td><td>200.99886</td><td>188.10966</td></tr>\n",
       "<tr><td>...</td><td>...</td><td>...</td><td>...</td></tr>\n",
       "<tr><td>1037.0145</td><td>343.55243</td><td>3.7279663</td><td>186.7312</td></tr>\n",
       "<tr><td>943.22864</td><td>1595.6782</td><td>3.9056702</td><td>187.1601</td></tr>\n",
       "<tr><td>585.68823</td><td>485.87997</td><td>3.7243958</td><td>186.2497</td></tr>\n",
       "<tr><td>999.3811</td><td>1605.5836</td><td>3.8299103</td><td>187.15587</td></tr>\n",
       "<tr><td>936.5283</td><td>321.6108</td><td>3.5191345</td><td>186.45404</td></tr>\n",
       "<tr><td>626.41284</td><td>1554.1694</td><td>4.0204163</td><td>186.73859</td></tr>\n",
       "<tr><td>684.0709</td><td>401.46335</td><td>3.5788574</td><td>186.19795</td></tr>\n",
       "<tr><td>616.0542</td><td>1597.7136</td><td>3.6399536</td><td>186.58612</td></tr>\n",
       "<tr><td>769.2759</td><td>483.49252</td><td>2.7740479</td><td>187.00104</td></tr>\n",
       "<tr><td>638.8704</td><td>323.4588</td><td>3.5640717</td><td>185.56624</td></tr>\n",
       "</table></div>"
      ],
      "text/plain": [
       "<Table length=401>\n",
       "    X         Y        FLUX   BACKGROUND\n",
       " float32   float32   float32   float32  \n",
       "--------- --------- --------- ----------\n",
       "1299.9495 279.02258  284.3308  186.14813\n",
       " 848.3542 545.91876  272.4346  187.57803\n",
       "201.02235  725.9589 204.57933  185.21574\n",
       "243.08138 1636.2616   201.611  183.92813\n",
       "1917.4055 498.42236   106.728  184.93527\n",
       " 907.1247 1110.0459  64.79219  188.72084\n",
       "1520.0249 1264.9215 52.875397  187.54926\n",
       "2203.8938 916.99365 40.692764  184.38939\n",
       " 920.9365 628.78796 200.99886  188.10966\n",
       "      ...       ...       ...        ...\n",
       "1037.0145 343.55243 3.7279663   186.7312\n",
       "943.22864 1595.6782 3.9056702   187.1601\n",
       "585.68823 485.87997 3.7243958   186.2497\n",
       " 999.3811 1605.5836 3.8299103  187.15587\n",
       " 936.5283  321.6108 3.5191345  186.45404\n",
       "626.41284 1554.1694 4.0204163  186.73859\n",
       " 684.0709 401.46335 3.5788574  186.19795\n",
       " 616.0542 1597.7136 3.6399536  186.58612\n",
       " 769.2759 483.49252 2.7740479  187.00104\n",
       " 638.8704  323.4588 3.5640717  185.56624"
      ]
     },
     "execution_count": 15,
     "metadata": {},
     "output_type": "execute_result"
    }
   ],
   "source": [
    "cat = Table.read(\"axy.fits\")\n",
    "cat"
   ]
  },
  {
   "cell_type": "code",
   "execution_count": 21,
   "metadata": {},
   "outputs": [
    {
     "data": {
      "text/plain": [
       "<matplotlib.collections.PathCollection at 0x1f9a25af590>"
      ]
     },
     "execution_count": 21,
     "metadata": {},
     "output_type": "execute_result"
    },
    {
     "data": {
      "image/png": "[encoded data removed]",
      "text/plain": [
       "<Figure size 640x480 with 1 Axes>"
      ]
     },
     "metadata": {},
     "output_type": "display_data"
    }
   ],
   "source": [
    "plt.scatter(cat[\"X\"],cat[\"Y\"],s=cat[\"FLUX\"]/10)"
   ]
  },
  {
   "cell_type": "code",
   "execution_count": 25,
   "metadata": {},
   "outputs": [
    {
     "data": {
      "text/plain": [
       "<matplotlib.collections.PathCollection at 0x1f9a25c25a0>"
      ]
     },
     "execution_count": 25,
     "metadata": {},
     "output_type": "execute_result"
    },
    {
     "data": {
      "image/png": "[encoded data removed]",
      "text/plain": [
       "<Figure size 640x480 with 1 Axes>"
      ]
     },
     "metadata": {},
     "output_type": "display_data"
    }
   ],
   "source": [
    "plt.scatter(mycat[\"xcentroid\"],mycat[\"ycentroid\"],s=mycat[\"kron_flux\"]/1000)"
   ]
  },
  {
   "cell_type": "code",
   "execution_count": null,
   "metadata": {},
   "outputs": [],
   "source": [
    "small_cat = mycat[\"xcentroid\",\"ycentroid\"]\n",
    "small_cat.write(\"small_cat.csv\")\n",
    "\n",
    "# this catalog successfully solves with astro.net"
   ]
  },
  {
   "cell_type": "code",
   "execution_count": 29,
   "metadata": {},
   "outputs": [],
   "source": []
  },
  {
   "cell_type": "code",
   "execution_count": 32,
   "metadata": {},
   "outputs": [],
   "source": [
    "ast = AstrometryNet()\n",
    "ast.api_key = keyring.get_password(\"astrometry_net\",\"api\")"
   ]
  },
  {
   "cell_type": "code",
   "execution_count": 67,
   "metadata": {},
   "outputs": [
    {
     "data": {
      "text/plain": [
       "(np.float64(261.73777083333334), np.float64(65.25398333333334))"
      ]
     },
     "execution_count": 67,
     "metadata": {},
     "output_type": "execute_result"
    }
   ],
   "source": [
    "guess_coords.ra.deg, guess_coords.dec.deg"
   ]
  },
  {
   "cell_type": "code",
   "execution_count": 64,
   "metadata": {},
   "outputs": [],
   "source": [
    "astrom_params = {\"scale_units\":\"arcsecperpix\",\"scale_est\":0.63, \"scale_type\":\"ev\", \"scale_err\":10, \"center_ra\":guess_coords.ra.deg,\"center_dec\":guess_coords.dec.deg,\"radius\":1,\"publicly_visible\":\"n\", \"parity\":1}"
   ]
  },
  {
   "cell_type": "code",
   "execution_count": 62,
   "metadata": {},
   "outputs": [
    {
     "data": {
      "text/plain": [
       "(2328, 1760)"
      ]
     },
     "execution_count": 62,
     "metadata": {},
     "output_type": "execute_result"
    }
   ],
   "source": [
    "data.shape[1],data.shape[0]"
   ]
  },
  {
   "cell_type": "code",
   "execution_count": 68,
   "metadata": {},
   "outputs": [
    {
     "name": "stdout",
     "output_type": "stream",
     "text": [
      "Solving.........."
     ]
    },
    {
     "data": {
      "text/plain": [
       "(SIMPLE  =                    T / Standard FITS file                             \n",
       " BITPIX  =                    8 / ASCII or bytes array                           \n",
       " NAXIS   =                    0 / Minimal header                                 \n",
       " EXTEND  =                    T / There may be FITS ext                          \n",
       " WCSAXES =                    2 / no comment                                     \n",
       " CTYPE1  = 'RA---TAN-SIP' / TAN (gnomic) projection + SIP distortions            \n",
       " CTYPE2  = 'DEC--TAN-SIP' / TAN (gnomic) projection + SIP distortions            \n",
       " EQUINOX =               2000.0 / Equatorial coordinates definition (yr)         \n",
       " LONPOLE =                180.0 / no comment                                     \n",
       " LATPOLE =                  0.0 / no comment                                     \n",
       " CRVAL1  =        260.829444473 / RA  of reference point                         \n",
       " CRVAL2  =         64.754624963 / DEC of reference point                         \n",
       " CRPIX1  =        1073.90008853 / X reference pixel                              \n",
       " CRPIX2  =        1248.13438635 / Y reference pixel                              \n",
       " CUNIT1  = 'deg     ' / X pixel scale units                                      \n",
       " CUNIT2  = 'deg     ' / Y pixel scale units                                      \n",
       " CD1_1   =   -0.000174866620049 / Transformation matrix                          \n",
       " CD1_2   =   -7.34799317417E-06 / no comment                                     \n",
       " CD2_1   =    6.19743361378E-06 / no comment                                     \n",
       " CD2_2   =   -0.000175117072884 / no comment                                     \n",
       " IMAGEW  =                 2328 / Image width,  in pixels.                       \n",
       " IMAGEH  =                 1760 / Image height, in pixels.                       \n",
       " A_ORDER =                    2 / Polynomial order, axis 1                       \n",
       " A_0_0   =                    0 / no comment                                     \n",
       " A_0_1   =                    0 / no comment                                     \n",
       " A_0_2   =    3.87544523539E-06 / no comment                                     \n",
       " A_1_0   =                    0 / no comment                                     \n",
       " A_1_1   =   -1.36692125435E-07 / no comment                                     \n",
       " A_2_0   =    2.41647975998E-06 / no comment                                     \n",
       " B_ORDER =                    2 / Polynomial order, axis 2                       \n",
       " B_0_0   =                    0 / no comment                                     \n",
       " B_0_1   =                    0 / no comment                                     \n",
       " B_0_2   =   -9.12535867956E-07 / no comment                                     \n",
       " B_1_0   =                    0 / no comment                                     \n",
       " B_1_1   =    7.61263142176E-07 / no comment                                     \n",
       " B_2_0   =   -1.06321736052E-06 / no comment                                     \n",
       " AP_ORDER=                    2 / Inv polynomial order, axis 1                   \n",
       " AP_0_0  =    -0.00388714967211 / no comment                                     \n",
       " AP_0_1  =    -3.3845924562E-06 / no comment                                     \n",
       " AP_0_2  =   -3.86485723696E-06 / no comment                                     \n",
       " AP_1_0  =    1.27594263771E-05 / no comment                                     \n",
       " AP_1_1  =    1.16806590271E-07 / no comment                                     \n",
       " AP_2_0  =   -2.40982827568E-06 / no comment                                     \n",
       " BP_ORDER=                    2 / Inv polynomial order, axis 2                   \n",
       " BP_0_0  =     0.00202617223373 / no comment                                     \n",
       " BP_0_1  =    1.88926990186E-06 / no comment                                     \n",
       " BP_0_2  =    9.06515808838E-07 / no comment                                     \n",
       " BP_1_0  =   -6.13785162279E-06 / no comment                                     \n",
       " BP_1_1  =   -7.52764478533E-07 / no comment                                     \n",
       " BP_2_0  =    1.05988954436E-06 / no comment                                     \n",
       " HISTORY Created by the Astrometry.net suite.                                    \n",
       " HISTORY For more details, see http://astrometry.net.                            \n",
       " HISTORY Git URL https://github.com/dstndstn/astrometry.net                      \n",
       " HISTORY Git revision 0.95-15-gbeb78120                                          \n",
       " HISTORY Git date Tue_Jul_30_19:45:49_2024_+0000                                 \n",
       " HISTORY This is a WCS header was created by Astrometry.net.                     \n",
       " DATE    = '2024-12-23T23:17:55' / Date this file was created.                   \n",
       " COMMENT -- onefield solver parameters: --                                       \n",
       " COMMENT Index(0): /data/INDEXES/index-4100/index-4107.fits                      \n",
       " COMMENT Index(1): /data/INDEXES/index-4100/index-4108.fits                      \n",
       " COMMENT Index(2): /data/INDEXES/index-5200-HEAVY/index-5200-11.fits             \n",
       " COMMENT Index(3): /data/INDEXES/index-5200-HEAVY/index-5201-11.fits             \n",
       " COMMENT Index(4): /data/INDEXES/index-5200-HEAVY/index-5202-11.fits             \n",
       " COMMENT Index(5): /data/INDEXES/index-5200-HEAVY/index-5203-11.fits             \n",
       " COMMENT Index(6): /data/INDEXES/index-5200-HEAVY/index-5204-11.fits             \n",
       " COMMENT Index(7): /data/INDEXES/index-5200-HEAVY/index-5205-11.fits             \n",
       " COMMENT Index(8): /data/INDEXES/index-5200-HEAVY/index-5206-11.fits             \n",
       " COMMENT Field name: job.axy                                                     \n",
       " COMMENT Field scale lower: 0.567 arcsec/pixel                                   \n",
       " COMMENT Field scale upper: 0.693 arcsec/pixel                                   \n",
       " COMMENT X col name: X                                                           \n",
       " COMMENT Y col name: Y                                                           \n",
       " COMMENT Start obj: 0                                                            \n",
       " COMMENT End obj: 0                                                              \n",
       " COMMENT Solved_in: (null)                                                       \n",
       " COMMENT Solved_out: (null)                                                      \n",
       " COMMENT Parity: 1                                                               \n",
       " COMMENT Codetol: 0.01                                                           \n",
       " COMMENT Verify pixels: 1 pix                                                    \n",
       " COMMENT Maxquads: 0                                                             \n",
       " COMMENT Maxmatches: 0                                                           \n",
       " COMMENT Cpu limit: 600.000000 s                                                 \n",
       " COMMENT Time limit: 0 s                                                         \n",
       " COMMENT Total time limit: 0 s                                                   \n",
       " COMMENT Total CPU limit: 0.000000 s                                             \n",
       " COMMENT Tweak: yes                                                              \n",
       " COMMENT Tweak AB order: 2                                                       \n",
       " COMMENT Tweak ABP order: 2                                                      \n",
       " COMMENT --                                                                      \n",
       " COMMENT -- properties of the matching quad: --                                  \n",
       " COMMENT index id: 5206                                                          \n",
       " COMMENT index healpix: 11                                                       \n",
       " COMMENT index hpnside: 2                                                        \n",
       " COMMENT log odds: 76.8977                                                       \n",
       " COMMENT odds: 2.49032e+33                                                       \n",
       " COMMENT quadno: 28566                                                           \n",
       " COMMENT stars: 79783,79766,79781,79772                                          \n",
       " COMMENT field: 12,9,8,4                                                         \n",
       " COMMENT code error: 0.00202406                                                  \n",
       " COMMENT nmatch: 8                                                               \n",
       " COMMENT nconflict: 0                                                            \n",
       " COMMENT nfield: 19                                                              \n",
       " COMMENT nindex: 13                                                              \n",
       " COMMENT scale: 0.630439 arcsec/pix                                              \n",
       " COMMENT parity: 1                                                               \n",
       " COMMENT quads tried: 609                                                        \n",
       " COMMENT quads matched: 56                                                       \n",
       " COMMENT quads verified: 0                                                       \n",
       " COMMENT objs tried: 13                                                          \n",
       " COMMENT cpu time: 0.003127                                                      \n",
       " COMMENT --                                                                      ,\n",
       " 11446303)"
      ]
     },
     "execution_count": 68,
     "metadata": {},
     "output_type": "execute_result"
    }
   ],
   "source": [
    "ast.solve_from_source_list(small_cat[\"xcentroid\"],small_cat[\"ycentroid\"],data.shape[1],data.shape[0],solve_timeout=120,return_submission_id=True, **astrom_params)"
   ]
  },
  {
   "cell_type": "code",
   "execution_count": 34,
   "metadata": {},
   "outputs": [
    {
     "name": "stdout",
     "output_type": "stream",
     "text": [
      "allow_commercial_use: type 'str', default value d, allowed values ('d', 'y', 'n')\n",
      "allow_modifications: type 'str', default value d, allowed values ('d', 'y', 'n')\n",
      "center_dec: type 'float', default value None, allowed values (-90, 90)\n",
      "center_ra: type 'float', default value None, allowed values (0, 360)\n",
      "crpix_center: type 'bool', default value None, allowed values ()\n",
      "downsample_factor: type 'int', default value None, allowed values (1,)\n",
      "parity: type 'int', default value None, allowed values (0, 2)\n",
      "positional_error: type 'float', default value None, allowed values (0,)\n",
      "publicly_visible: type 'str', default value y, allowed values ('y', 'n')\n",
      "radius: type 'float', default value None, allowed values (0,)\n",
      "scale_err: type 'float', default value None, allowed values (0, 100)\n",
      "scale_est: type 'float', default value None, allowed values (0,)\n",
      "scale_lower: type 'float', default value None, allowed values (0,)\n",
      "scale_type: type 'str', default value None, allowed values ('ev', 'ul')\n",
      "scale_units: type 'str', default value None, allowed values ('degwidth', 'arcminwidth', 'arcsecperpix')\n",
      "scale_upper: type 'float', default value None, allowed values (0,)\n",
      "tweak_order: type 'int', default value 2, allowed values (0,)\n",
      "use_sextractor: type 'bool', default value False, allowed values ()\n"
     ]
    }
   ],
   "source": [
    "AstrometryNet.show_allowed_settings()"
   ]
  },
  {
   "cell_type": "code",
   "execution_count": 69,
   "metadata": {},
   "outputs": [
    {
     "name": "stderr",
     "output_type": "stream",
     "text": [
      "WARNING: Attribute `version` of type <class 'dict'> cannot be added to FITS Header - skipping [astropy.io.fits.convenience]\n",
      "WARNING: VerifyWarning: Keyword name 'localbkg_width' is greater than 8 characters or contains characters not allowed by the FITS standard; a HIERARCH card will be created. [astropy.io.fits.card]\n",
      "WARNING: VerifyWarning: Keyword name 'apermask_method' is greater than 8 characters or contains characters not allowed by the FITS standard; a HIERARCH card will be created. [astropy.io.fits.card]\n",
      "WARNING: Attribute `kron_params` of type <class 'tuple'> cannot be added to FITS Header - skipping [astropy.io.fits.convenience]\n"
     ]
    }
   ],
   "source": [
    "small_cat.write(\"small_cat.fits\",overwrite=True)"
   ]
  },
  {
   "cell_type": "code",
   "execution_count": 70,
   "metadata": {},
   "outputs": [
    {
     "data": {
      "text/html": [
       "<div><i>QTable length=19</i>\n",
       "<table id=\"table2171689198000\" class=\"table-striped table-bordered table-condensed\">\n",
       "<thead><tr><th>xcentroid</th><th>ycentroid</th></tr></thead>\n",
       "<thead><tr><th>float64</th><th>float64</th></tr></thead>\n",
       "<tr><td>847.1947239263803</td><td>544.8333742331288</td></tr>\n",
       "<tr><td>241.20720469142697</td><td>1636.1709019826865</td></tr>\n",
       "<tr><td>919.8098201936376</td><td>627.7017634854772</td></tr>\n",
       "<tr><td>1916.901144640999</td><td>497.2598855359001</td></tr>\n",
       "<tr><td>551.8418238993711</td><td>1409.685534591195</td></tr>\n",
       "<tr><td>329.6018766756032</td><td>1430.054959785523</td></tr>\n",
       "<tr><td>1298.9918931807345</td><td>277.967095851216</td></tr>\n",
       "<tr><td>1270.0418994413408</td><td>1633.7150837988827</td></tr>\n",
       "<tr><td>199.98616600790513</td><td>724.9848484848485</td></tr>\n",
       "<tr><td>2144.1147540983607</td><td>519.0819672131148</td></tr>\n",
       "<tr><td>2050.0055248618783</td><td>551.97605893186</td></tr>\n",
       "<tr><td>2237.9850746268658</td><td>329.0018656716418</td></tr>\n",
       "<tr><td>906.0601941747573</td><td>1109.0077669902912</td></tr>\n",
       "<tr><td>287.975</td><td>581.0159090909091</td></tr>\n",
       "<tr><td>178.9928229665072</td><td>608.9928229665072</td></tr>\n",
       "<tr><td>1519.0</td><td>1263.9950495049504</td></tr>\n",
       "<tr><td>1158.9546742209632</td><td>546.9405099150142</td></tr>\n",
       "<tr><td>653.0063897763579</td><td>928.0095846645368</td></tr>\n",
       "<tr><td>2203.0</td><td>915.9932203389831</td></tr>\n",
       "</table></div>"
      ],
      "text/plain": [
       "<QTable length=19>\n",
       "    xcentroid          ycentroid     \n",
       "     float64            float64      \n",
       "------------------ ------------------\n",
       " 847.1947239263803  544.8333742331288\n",
       "241.20720469142697 1636.1709019826865\n",
       " 919.8098201936376  627.7017634854772\n",
       " 1916.901144640999  497.2598855359001\n",
       " 551.8418238993711  1409.685534591195\n",
       " 329.6018766756032  1430.054959785523\n",
       "1298.9918931807345   277.967095851216\n",
       "1270.0418994413408 1633.7150837988827\n",
       "199.98616600790513  724.9848484848485\n",
       "2144.1147540983607  519.0819672131148\n",
       "2050.0055248618783    551.97605893186\n",
       "2237.9850746268658  329.0018656716418\n",
       " 906.0601941747573 1109.0077669902912\n",
       "           287.975  581.0159090909091\n",
       " 178.9928229665072  608.9928229665072\n",
       "            1519.0 1263.9950495049504\n",
       "1158.9546742209632  546.9405099150142\n",
       " 653.0063897763579  928.0095846645368\n",
       "            2203.0  915.9932203389831"
      ]
     },
     "execution_count": 70,
     "metadata": {},
     "output_type": "execute_result"
    }
   ],
   "source": [
    "small_cat"
   ]
  },
  {
   "cell_type": "code",
   "execution_count": null,
   "metadata": {},
   "outputs": [],
   "source": []
  }
 ],
 "metadata": {
  "kernelspec": {
   "display_name": ".venv",
   "language": "python",
   "name": "python3"
  },
  "language_info": {
   "codemirror_mode": {
    "name": "ipython",
    "version": 3
   },
   "file_extension": ".py",
   "mimetype": "text/x-python",
   "name": "python",
   "nbconvert_exporter": "python",
   "pygments_lexer": "ipython3",
   "version": "3.12.0"
  }
 },
 "nbformat": 4,
 "nbformat_minor": 2
}

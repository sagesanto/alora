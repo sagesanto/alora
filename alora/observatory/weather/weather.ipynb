{
 "cells": [
  {
   "cell_type": "code",
   "execution_count": 1,
   "metadata": {},
   "outputs": [],
   "source": [
    "import requests\n",
    "import bs4"
   ]
  },
  {
   "cell_type": "code",
   "execution_count": null,
   "metadata": {},
   "outputs": [],
   "source": [
    "BASE_URL = \"https://swd.weatherflow.com/swd/rest\""
   ]
  },
  {
   "cell_type": "code",
   "execution_count": 14,
   "metadata": {},
   "outputs": [],
   "source": [
    "def get_station_ID():\n",
    "    url = f\"{BASE_URL}/stations?token={TOKEN}\"\n",
    "    r = requests.get(url)\n",
    "    return r.json()[\"stations\"][0][\"station_id\"]"
   ]
  },
  {
   "cell_type": "code",
   "execution_count": 16,
   "metadata": {},
   "outputs": [],
   "source": [
    "station_ID = get_station_ID()"
   ]
  },
  {
   "cell_type": "code",
   "execution_count": 19,
   "metadata": {},
   "outputs": [],
   "source": [
    "def get_observation():\n",
    "    url = f\"{BASE_URL}/observations/station/{station_ID}?token={TOKEN}\"\n",
    "    r = requests.get(url)\n",
    "    j = r.json()\n",
    "    if j[\"status\"][\"status_code\"] != 0:\n",
    "        raise ChildProcessError(f\"Weather station failed to report observation, error message given was '{j['status']['status_message']}'\")\n",
    "    return j[\"obs\"][0]"
   ]
  },
  {
   "cell_type": "code",
   "execution_count": 20,
   "metadata": {},
   "outputs": [
    {
     "data": {
      "text/plain": [
       "{'air_density': 1.05506,\n",
       " 'air_temperature': 22.1,\n",
       " 'barometric_pressure': 894.2,\n",
       " 'brightness': 78692,\n",
       " 'delta_t': 9.9,\n",
       " 'dew_point': 4.2,\n",
       " 'feels_like': 22.1,\n",
       " 'heat_index': 22.1,\n",
       " 'lightning_strike_count': 0,\n",
       " 'lightning_strike_count_last_1hr': 0,\n",
       " 'lightning_strike_count_last_3hr': 0,\n",
       " 'lightning_strike_last_distance': 31,\n",
       " 'lightning_strike_last_epoch': 1730693576,\n",
       " 'precip': 0.0,\n",
       " 'precip_accum_last_1hr': 0.0,\n",
       " 'precip_accum_local_day': 0.0,\n",
       " 'precip_accum_local_day_final': 0.0,\n",
       " 'precip_accum_local_yesterday': 0.0,\n",
       " 'precip_accum_local_yesterday_final': 0.0,\n",
       " 'precip_analysis_type_yesterday': 0,\n",
       " 'precip_minutes_local_day': 0,\n",
       " 'precip_minutes_local_yesterday': 0,\n",
       " 'precip_minutes_local_yesterday_final': 0,\n",
       " 'pressure_trend': 'falling',\n",
       " 'relative_humidity': 31,\n",
       " 'sea_level_pressure': 1020.8,\n",
       " 'solar_radiation': 656,\n",
       " 'station_pressure': 894.2,\n",
       " 'timestamp': 1732649327,\n",
       " 'uv': 4.27,\n",
       " 'wet_bulb_globe_temperature': 17.1,\n",
       " 'wet_bulb_temperature': 12.2,\n",
       " 'wind_avg': 1.7,\n",
       " 'wind_chill': 22.1,\n",
       " 'wind_direction': 32,\n",
       " 'wind_gust': 2.7,\n",
       " 'wind_lull': 0.3}"
      ]
     },
     "execution_count": 20,
     "metadata": {},
     "output_type": "execute_result"
    }
   ],
   "source": [
    "get_observation()"
   ]
  },
  {
   "cell_type": "code",
   "execution_count": null,
   "metadata": {},
   "outputs": [],
   "source": [
    "weather_req = requests.get(\"https://tempestwx.com/station/141606/\")\n",
    "weather = bs4.BeautifulSoup(weather_req.content)\n",
    "weather"
   ]
  },
  {
   "cell_type": "code",
   "execution_count": null,
   "metadata": {},
   "outputs": [],
   "source": [
    "weather.find_all(\"p\",attrs={\"aria-label\":\"Chance of precipitation\"})"
   ]
  },
  {
   "cell_type": "code",
   "execution_count": null,
   "metadata": {},
   "outputs": [],
   "source": [
    "today = weather.find_all(\"div\",attrs={\"class\":\"forecast-day-general on-bg\"})[0]\n",
    "today"
   ]
  },
  {
   "cell_type": "code",
   "execution_count": null,
   "metadata": {},
   "outputs": [],
   "source": [
    "today.contents[1].contents"
   ]
  },
  {
   "cell_type": "code",
   "execution_count": null,
   "metadata": {},
   "outputs": [],
   "source": [
    "today.find_all(\"p\", attrs={\"class\":\"Chance of precipitation\"})"
   ]
  },
  {
   "cell_type": "code",
   "execution_count": null,
   "metadata": {},
   "outputs": [],
   "source": [
    "today = weather.find_all(\"div\",attrs={\"id\":\"fx-day-0\"})[0]\n",
    "today = today.find_all(attrs={\"class\":\"day-expanded\"})[0]\n",
    "# hourly = today.find_all(attrs={\"class\":\"day-expanded\"})[0]\n",
    "hourly = today.find_all(attrs={\"class\":\"hourly-data\"})[0]\n",
    "for c in hourly.children:\n",
    "    print(c)"
   ]
  },
  {
   "cell_type": "code",
   "execution_count": null,
   "metadata": {},
   "outputs": [],
   "source": [
    "weather_req.html.render()"
   ]
  },
  {
   "cell_type": "code",
   "execution_count": null,
   "metadata": {},
   "outputs": [],
   "source": [
    "hourly"
   ]
  },
  {
   "cell_type": "code",
   "execution_count": null,
   "metadata": {},
   "outputs": [],
   "source": [
    "with open(\"weather.html\",\"w\") as f:\n",
    "    print(weather_req.content,file=f)"
   ]
  },
  {
   "cell_type": "code",
   "execution_count": null,
   "metadata": {},
   "outputs": [],
   "source": [
    "from bs4 import BeautifulSoup\n",
    "from selenium import webdriver\n",
    "\n",
    "options = webdriver.ChromeOptions()\n",
    "options.add_argument('--headless')\n",
    "# executable_path param is not needed if you updated PATH\n",
    "browser = webdriver.Chrome(options=options)\n",
    "browser.get(URL)\n",
    "html = browser.page_source\n",
    "soup = BeautifulSoup(html, features=\"html.parser\")\n",
    "print(soup)\n",
    "browser.quit()"
   ]
  },
  {
   "cell_type": "code",
   "execution_count": null,
   "metadata": {},
   "outputs": [],
   "source": [
    "browser.quit()"
   ]
  },
  {
   "cell_type": "code",
   "execution_count": null,
   "metadata": {},
   "outputs": [],
   "source": [
    "hourly = soup.find(\"table\")"
   ]
  },
  {
   "cell_type": "code",
   "execution_count": null,
   "metadata": {},
   "outputs": [],
   "source": [
    "hourly.get(\"class\")"
   ]
  },
  {
   "cell_type": "code",
   "execution_count": null,
   "metadata": {},
   "outputs": [],
   "source": [
    "for row in hourly.tbody.find_all('tr'):    \n",
    "    # Find all data for each column\n",
    "    columns = row.find_all('td')\n",
    "    print(columns)\n",
    "    # if(columns != []):\n",
    "\n",
    "rows = [row for row in hourly.tbody.find_all('tr') if row]"
   ]
  },
  {
   "cell_type": "code",
   "execution_count": null,
   "metadata": {},
   "outputs": [],
   "source": [
    "rows"
   ]
  },
  {
   "cell_type": "code",
   "execution_count": null,
   "metadata": {},
   "outputs": [],
   "source": []
  }
 ],
 "metadata": {
  "kernelspec": {
   "display_name": ".venv",
   "language": "python",
   "name": "python3"
  },
  "language_info": {
   "codemirror_mode": {
    "name": "ipython",
    "version": 3
   },
   "file_extension": ".py",
   "mimetype": "text/x-python",
   "name": "python",
   "nbconvert_exporter": "python",
   "pygments_lexer": "ipython3",
   "version": "3.12.0"
  }
 },
 "nbformat": 4,
 "nbformat_minor": 2
}
